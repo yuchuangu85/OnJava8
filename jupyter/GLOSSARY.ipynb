{
 "cells": [
  {
   "cell_type": "markdown",
   "metadata": {},
   "source": [
    "## 词汇表\n",
    "\n",
    "| 词汇  |  解释  |\n",
    "| ----------------| ----------|\n",
    "| **OOP** (*Object-oriented programming*) | 面向对象编程，一种编程思维模式和编程架构|\n",
    "| **UML** (*Unified Modeling Language*)  |  统一建模语言，类图 |\n",
    "| **Aggregation**        | 聚合，关联关系的一种，是强的关联关系|\n",
    "| **Composition**       | 组合，关联关系的一种，是比聚合关系强的关系 |\n",
    "| **STL**（*the Standard Template Library*）| C++ 标准模板库|\n",
    "| **Fibonacci Sequence**| [斐波那契数列](https://zh.wikipedia.org/wiki/斐波那契数列)，又称黄金分割数列 |"
   ]
  }
 ],
 "metadata": {},
 "nbformat": 4,
 "nbformat_minor": 4
}
