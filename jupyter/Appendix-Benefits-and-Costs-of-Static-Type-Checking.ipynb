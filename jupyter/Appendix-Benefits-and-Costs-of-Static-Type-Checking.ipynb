{
 "cells": [
  {
   "cell_type": "markdown",
   "metadata": {},
   "source": [
    "[TOC]\n",
    "\n",
    "<!-- Appendix: Benefits and Costs of Static Type Checking -->\n",
    "# 附录:静态语言类型检查\n",
    "> 这是一本我多年来撰写的经过编辑过的论文集，论文集试图将静态检查语言和动态语言之间的争论放到一个正确的角度。还有一个前言部分，描述了我最近对这个话题的思考和见解。\n",
    "\n",
    "<!-- Foreword -->\n",
    "## 前言\n",
    "\n",
    "\n",
    "<!-- Static Type Checking vs. Testing -->\n",
    "## 静态类型检查和测试\n",
    "\n",
    "\n",
    "<!-- How to Argue about Typing -->\n",
    "## 如何提升打字\n",
    "\n",
    "\n",
    "<!-- The Cost of Productivity -->\n",
    "## 生产力的成本\n",
    "\n",
    "\n",
    "<!-- Static vs. Dynamic -->\n",
    "## 静态和动态\n",
    "\n",
    "\n",
    "<!-- 分页 -->\n",
    "\n",
    "<div style=\"page-break-after: always;\"></div>"
   ]
  }
 ],
 "metadata": {},
 "nbformat": 4,
 "nbformat_minor": 4
}
