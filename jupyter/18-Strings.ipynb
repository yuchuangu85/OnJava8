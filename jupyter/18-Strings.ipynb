{
 "cells": [
  {
   "cell_type": "markdown",
   "metadata": {},
   "source": [
    "[TOC]\n",
    "\n",
    "<!-- Strings -->\n",
    "\n",
    "# 第十八章 字符串\n",
    ">字符串操作毫无疑问是计算机程序设计中最常见的行为之一。\n",
    "\n",
    "在 Java 大展拳脚的 Web 系统中更是如此。在本章中，我们将深入学习在 Java 语言中应用最广泛的 `String` 类，并研究与之相关的类及工具。\n",
    "\n",
    "<!-- Immutable Strings -->\n",
    "\n",
    "## 字符串的不可变\n",
    "`String` 对象是不可变的。查看 JDK 文档你就会发现，`String` 类中每一个看起来会修改 `String` 值的方法，实际上都是创建了一个全新的 `String` 对象，以包含修改后的字符串内容。而最初的 `String` 对象则丝毫未动。\n",
    "\n",
    "看看下面的代码："
   ]
  },
  {
   "cell_type": "code",
   "execution_count": null,
   "metadata": {
    "attributes": {
     "classes": [
      "java"
     ],
     "id": ""
    }
   },
   "outputs": [],
   "source": [
    "// strings/Immutable.java\n",
    "public class Immutable { \n",
    "    public static String upcase(String s) { \n",
    "        return s.toUpperCase(); \n",
    "    } \n",
    "    public static void main(String[] args) { \n",
    "        String q = \"howdy\";\n",
    "        System.out.println(q); // howdy \n",
    "        String qq = upcase(q); \n",
    "        System.out.println(qq); // HOWDY \n",
    "        System.out.println(q); // howdy \n",
    "    } \n",
    "} \n",
    "/* Output: \n",
    "howdy\n",
    "HOWDY \n",
    "howdy\n",
    "*/ "
   ]
  },
  {
   "cell_type": "markdown",
   "metadata": {},
   "source": [
    "当把 `q` 传递给 `upcase()` 方法时，实际传递的是引用的一个拷贝。其实，每当把 String 对象作为方法的参数时，都会复制一份引用，而该引用所指向的对象其实一直待在单一的物理位置上，从未动过。\n",
    "\n",
    "回到 `upcase()` 的定义，传入其中的引用有了名字 `s`，只有 `upcase()` 运行的时候，局部引用 `s` 才存在。一旦 `upcase()` 运行结束，`s` 就消失了。当然了，`upcase()` 的返回值，其实是最终结果的引用。这足以说明，`upcase()` 返回的引用已经指向了一个新的对象，而 `q` 仍然在原来的位置。\n",
    "\n",
    "`String` 的这种行为正是我们想要的。例如："
   ]
  },
  {
   "cell_type": "code",
   "execution_count": null,
   "metadata": {
    "attributes": {
     "classes": [
      "java"
     ],
     "id": ""
    }
   },
   "outputs": [],
   "source": [
    "String s = \"asdf\";\n",
    "String x = Immutable.upcase(s);"
   ]
  },
  {
   "cell_type": "markdown",
   "metadata": {},
   "source": [
    "难道你真的希望 `upcase()` 方法改变其参数吗？对于一个方法而言，参数是为该方法提供信息的，而不是想让该方法改变自己的。在阅读这段代码时，读者自然会有这样的感觉。这一点很重要，正是有了这种保障，才使得代码易于编写和阅读。\n",
    "\n",
    "\n",
    "<!-- Overloading + vs. StringBuilder -->\n",
    "## `+` 的重载与 `StringBuilder`\n",
    "`String` 对象是不可变的，你可以给一个 `String` 对象添加任意多的别名。因为 `String` 是只读的，所以指向它的任何引用都不可能修改它的值，因此，也就不会影响到其他引用。\n",
    "\n",
    "不可变性会带来一定的效率问题。为 `String` 对象重载的 `+` 操作符就是一个例子。重载的意思是，一个操作符在用于特定的类时，被赋予了特殊的意义（用于 `String` 的 `+` 与 `+=` 是 Java 中仅有的两个重载过的操作符，Java 不允许程序员重载任何其他的操作符 [^1]）。\n",
    "\n",
    "操作符 `+` 可以用来连接 `String`："
   ]
  },
  {
   "cell_type": "code",
   "execution_count": null,
   "metadata": {
    "attributes": {
     "classes": [
      "java"
     ],
     "id": ""
    }
   },
   "outputs": [],
   "source": [
    "// strings/Concatenation.java\n",
    "\n",
    "public class Concatenation {\n",
    "    public static void main(String[] args) { \n",
    "        String mango = \"mango\"; \n",
    "        String s = \"abc\" + mango + \"def\" + 47; \n",
    "        System.out.println(s);\n",
    "    } \n",
    "}\n",
    "/* Output:\n",
    "abcmangodef47 \n",
    "*/"
   ]
  },
  {
   "cell_type": "markdown",
   "metadata": {},
   "source": [
    "可以想象一下，这段代码是这样工作的：`String` 可能有一个 `append()` 方法，它会生成一个新的 `String` 对象，以包含“abc”与 `mango` 连接后的字符串。该对象会再创建另一个新的 `String` 对象，然后与“def”相连，生成另一个新的对象，依此类推。\n",
    "\n",
    "这种方式当然是可行的，但是为了生成最终的 `String` 对象，会产生一大堆需要垃圾回收的中间对象。我猜想，Java 设计者一开始就是这么做的（这也是软件设计中的一个教训：除非你用代码将系统实现，并让它运行起来，否则你无法真正了解它会有什么问题），然后他们发现其性能相当糟糕。\n",
    "\n",
    "想看看以上代码到底是如何工作的吗？可以用 JDK 自带的 `javap` 工具来反编译以上代码。命令如下："
   ]
  },
  {
   "cell_type": "code",
   "execution_count": null,
   "metadata": {
    "attributes": {
     "classes": [
      "java"
     ],
     "id": ""
    }
   },
   "outputs": [],
   "source": [
    "javap -c Concatenation"
   ]
  },
  {
   "cell_type": "markdown",
   "metadata": {},
   "source": [
    "这里的 `-c` 标志表示将生成 JVM 字节码。我们剔除不感兴趣的部分，然后做细微的修改，于是有了以下的字节码："
   ]
  },
  {
   "cell_type": "code",
   "execution_count": null,
   "metadata": {
    "attributes": {
     "classes": [
      "x86asm"
     ],
     "id": ""
    }
   },
   "outputs": [],
   "source": [
    "public static void main(java.lang.String[]); \n",
    " Code:\n",
    "  Stack=2, Locals=3, Args_size=1\n",
    "  0: ldc #2; //String mango \n",
    "  2: astore_1 \n",
    "  3: new #3; //class StringBuilder \n",
    "  6: dup \n",
    "  7: invokespecial #4; //StringBuilder.\"<init>\":() \n",
    "  10: ldc #5; //String abc \n",
    "  12: invokevirtual #6; //StringBuilder.append:(String) \n",
    "  15: aload_1 \n",
    "  16: invokevirtual #6; //StringBuilder.append:(String) \n",
    "  19: ldc #7; //String def \n",
    "  21: invokevirtual #6; //StringBuilder.append:(String) \n",
    "  24: bipush 47 \n",
    "  26: invokevirtual #8; //StringBuilder.append:(I) \n",
    "  29: invokevirtual #9; //StringBuilder.toString:() \n",
    "  32: astore_2 \n",
    "  33: getstatic #10; //Field System.out:PrintStream;\n",
    "  36: aload_2 \n",
    "  37: invokevirtual #11; //PrintStream.println:(String) \n",
    "  40: return"
   ]
  },
  {
   "cell_type": "markdown",
   "metadata": {},
   "source": [
    "如果你有汇编语言的经验，以上代码应该很眼熟(其中的 `dup` 和 `invokevirtual` 语句相当于Java虚拟机上的汇编语句。即使你完全不了解汇编语言也无需担心)。需要重点注意的是：编译器自动引入了 `java.lang.StringBuilder` 类。虽然源代码中并没有使用 `StringBuilder` 类，但是编译器却自作主张地使用了它，就因为它更高效。\n",
    "\n",
    "在这里，编译器创建了一个 `StringBuilder` 对象，用于构建最终的 `String`，并对每个字符串调用了一次 `append()` 方法，共计 4 次。最后调用 `toString()` 生成结果，并存为 `s` (使用的命令为 `astore_2`)。\n",
    "\n",
    "现在，也许你会觉得可以随意使用 `String` 对象，反正编译器会自动为你做性能优化。可是在这之前，让我们更深入地看看编译器能为我们优化到什么程度。下面的例子采用两种方式生成一个 `String`：方法一使用了多个 `String` 对象；方法二在代码中使用了 `StringBuilder`。"
   ]
  },
  {
   "cell_type": "code",
   "execution_count": null,
   "metadata": {
    "attributes": {
     "classes": [
      "java"
     ],
     "id": ""
    }
   },
   "outputs": [],
   "source": [
    "// strings/WhitherStringBuilder.java\n",
    "\n",
    "public class WhitherStringBuilder { \n",
    "    public String implicit(String[] fields) { \n",
    "        String result = \"\"; \n",
    "        for(String field : fields) { \n",
    "            result += field;\n",
    "        }\n",
    "        return result; \n",
    "    }\n",
    "    public String explicit(String[] fields) { \n",
    "        StringBuilder result = new StringBuilder(); \n",
    "        for(String field : fields) { \n",
    "            result.append(field); \n",
    "        } \n",
    "        return result.toString(); \n",
    "    }\n",
    "}"
   ]
  },
  {
   "cell_type": "markdown",
   "metadata": {},
   "source": [
    "现在运行 `javap -c WitherStringBuilder`，可以看到两种不同方法（我已经去掉不相关的细节）对应的字节码。首先是 `implicit()` 方法："
   ]
  },
  {
   "cell_type": "code",
   "execution_count": null,
   "metadata": {
    "attributes": {
     "classes": [
      "x86asm"
     ],
     "id": ""
    }
   },
   "outputs": [],
   "source": [
    "public java.lang.String implicit(java.lang.String[]); \n",
    "0: ldc #2 // String \n",
    "2: astore_2\n",
    "3: aload_1 \n",
    "4: astore_3 \n",
    "5: aload_3 \n",
    "6: arraylength \n",
    "7: istore 4 \n",
    "9: iconst_0 \n",
    "10: istore 5 \n",
    "12: iload 5 \n",
    "14: iload 4 \n",
    "16: if_icmpge 51 \n",
    "19: aload_3 \n",
    "20: iload 5 \n",
    "22: aaload \n",
    "23: astore 6 \n",
    "25: new #3 // StringBuilder \n",
    "28: dup \n",
    "29: invokespecial #4 // StringBuilder.\"<init>\"\n",
    "32: aload_2 \n",
    "33: invokevirtual #5 // StringBuilder.append:(String) \n",
    "36: aload 6 \n",
    "38: invokevirtual #5 // StringBuilder.append:(String;) \n",
    "41: invokevirtual #6 // StringBuilder.toString:() \n",
    "44: astore_2 \n",
    "45: iinc 5, 1 \n",
    "48: goto 12 \n",
    "51: aload_2 \n",
    "52: areturn"
   ]
  },
  {
   "cell_type": "markdown",
   "metadata": {},
   "source": [
    "注意从第 16 行到第 48 行构成了一个循环体。第 16 行：对堆栈中的操作数进行“大于或等于的整数比较运算”，循环结束时跳转到第 51 行。第 48 行：重新回到循环体的起始位置（第 12 行）。注意：`StringBuilder` 是在循环内构造的，这意味着每进行一次循环，会创建一个新的 `StringBuilder` 对象。\n",
    "\n",
    "下面是 `explicit()` 方法对应的字节码："
   ]
  },
  {
   "cell_type": "code",
   "execution_count": null,
   "metadata": {
    "attributes": {
     "classes": [
      "x86asm"
     ],
     "id": ""
    }
   },
   "outputs": [],
   "source": [
    "public java.lang.String explicit(java.lang.String[]); \n",
    "0: new #3 // StringBuilder \n",
    "3: dup\n",
    "4: invokespecial #4 // StringBuilder.\"<init>\" \n",
    "7: astore_2 \n",
    "8: aload_1 \n",
    "9: astore_3 \n",
    "10: aload_3 \n",
    "11: arraylength \n",
    "12: istore 4 \n",
    "14: iconst_0 \n",
    "15: istore 5 \n",
    "17: iload 5 \n",
    "19: iload 4 \n",
    "21: if_icmpge 43 \n",
    "24: aload_3 \n",
    "25: iload 5 \n",
    "27: aaload \n",
    "28: astore 6 \n",
    "30: aload_2 \n",
    "31: aload 6 \n",
    "33: invokevirtual #5 // StringBuilder.append:(String) \n",
    "36: pop\n",
    "37: iinc 5, 1 \n",
    "40: goto 17 \n",
    "43: aload_2 \n",
    "44: invokevirtual #6 // StringBuilder.toString:() \n",
    "47: areturn"
   ]
  },
  {
   "cell_type": "markdown",
   "metadata": {},
   "source": [
    "可以看到，不仅循环部分的代码更简短、更简单，而且它只生成了一个 `StringBuilder` 对象。显式地创建 `StringBuilder` 还允许你预先为其指定大小。如果你已经知道最终字符串的大概长度，那预先指定 `StringBuilder` 的大小可以避免频繁地重新分配缓冲。\n",
    "\n",
    "因此，当你为一个类编写 `toString()` 方法时，如果字符串操作比较简单，那就可以信赖编译器，它会为你合理地构造最终的字符串结果。但是，如果你要在 `toString()` 方法中使用循环，且可能有性能问题，那么最好自己创建一个 `StringBuilder` 对象，用它来构建最终结果。请参考以下示例："
   ]
  },
  {
   "cell_type": "code",
   "execution_count": null,
   "metadata": {
    "attributes": {
     "classes": [
      "java"
     ],
     "id": ""
    }
   },
   "outputs": [],
   "source": [
    "// strings/UsingStringBuilder.java \n",
    "\n",
    "import java.util.*; \n",
    "import java.util.stream.*; \n",
    "public class UsingStringBuilder { \n",
    "    public static String string1() { \n",
    "        Random rand = new Random(47);\n",
    "        StringBuilder result = new StringBuilder(\"[\"); \n",
    "        for(int i = 0; i < 25; i++) { \n",
    "            result.append(rand.nextInt(100)); \n",
    "            result.append(\", \"); \n",
    "        } \n",
    "        result.delete(result.length()-2, result.length()); \n",
    "        result.append(\"]\");\n",
    "        return result.toString(); \n",
    "    } \n",
    "    public static String string2() { \n",
    "        String result = new Random(47)\n",
    "            .ints(25, 0, 100)\n",
    "            .mapToObj(Integer::toString)\n",
    "            .collect(Collectors.joining(\", \"));\n",
    "        return \"[\" + result + \"]\"; \n",
    "    } \n",
    "    public static void main(String[] args) { \n",
    "        System.out.println(string1()); \n",
    "        System.out.println(string2()); \n",
    "    }\n",
    "} \n",
    "/* Output: \n",
    "[58, 55, 93, 61, 61, 29, 68, 0, 22, 7, 88, 28, 51, 89, \n",
    "9, 78, 98, 61, 20, 58, 16, 40, 11, 22, 4] \n",
    "[58, 55, 93, 61, 61, 29, 68, 0, 22, 7, 88, 28, 51, 89,\n",
    "9, 78, 98, 61, 20, 58, 16, 40, 11, 22, 4] \n",
    "*/ "
   ]
  },
  {
   "cell_type": "markdown",
   "metadata": {},
   "source": [
    "在方法 `string1()` 中，最终结果是用 `append()` 语句拼接起来的。如果你想走捷径，例如：`append(a + \": \" + c)`，编译器就会掉入陷阱，从而为你另外创建一个 `StringBuilder` 对象处理括号内的字符串操作。如果拿不准该用哪种方式，随时可以用 `javap` 来分析你的程序。\n",
    "\n",
    "`StringBuilder` 提供了丰富而全面的方法，包括 `insert()`、`replace()`、`substring()`，甚至还有`reverse()`，但是最常用的还是 `append()` 和 `toString()`。还有 `delete()`，上面的例子中我们用它删除最后一个逗号和空格，以便添加右括号。\n",
    "\n",
    "`string2()` 使用了 `Stream`，这样代码更加简洁美观。可以证明，`Collectors.joining()` 内部也是使用的 `StringBuilder`，这种写法不会影响性能！\n",
    "\n",
    "`StringBuilder `是 Java SE5 引入的，在这之前用的是 `StringBuffer`。后者是线程安全的（参见[并发编程](./24-Concurrent-Programming.md)），因此开销也会大些。使用 `StringBuilder` 进行字符串操作更快一点。\n",
    "\n",
    "<!-- Unintended Recursion -->\n",
    "\n",
    "## 意外递归\n",
    "Java 中的每个类从根本上都是继承自 `Object`，标准集合类也是如此，它们都有 `toString()` 方法，并且覆盖了该方法，使得它生成的 `String` 结果能够表达集合自身，以及集合包含的对象。例如 `ArrayList.toString()`，它会遍历 `ArrayList` 中包含的所有对象，调用每个元素上的 `toString()` 方法："
   ]
  },
  {
   "cell_type": "code",
   "execution_count": null,
   "metadata": {
    "attributes": {
     "classes": [
      "java"
     ],
     "id": ""
    }
   },
   "outputs": [],
   "source": [
    "// strings/ArrayListDisplay.java \n",
    "import java.util.*;\n",
    "import java.util.stream.*; \n",
    "import generics.coffee.*;\n",
    "public class ArrayListDisplay { \n",
    "    public static void main(String[] args) {\n",
    "        List<Coffee> coffees = \n",
    "            Stream.generate(new CoffeeSupplier())\n",
    "                .limit(10)\n",
    "                .collect(Collectors.toList()); \n",
    "        System.out.println(coffees); \n",
    "    } \n",
    "}\n",
    "/* Output: \n",
    "[Americano 0, Latte 1, Americano 2, Mocha 3, Mocha 4, \n",
    "Breve 5, Americano 6, Latte 7, Cappuccino 8, Cappuccino 9] \n",
    "*/ "
   ]
  },
  {
   "cell_type": "markdown",
   "metadata": {},
   "source": [
    "如果你希望 `toString()` 打印出类的内存地址，也许你会考虑使用 `this` 关键字："
   ]
  },
  {
   "cell_type": "code",
   "execution_count": null,
   "metadata": {
    "attributes": {
     "classes": [
      "java"
     ],
     "id": ""
    }
   },
   "outputs": [],
   "source": [
    "// strings/InfiniteRecursion.java \n",
    "// Accidental recursion \n",
    "// {ThrowsException} \n",
    "// {VisuallyInspectOutput} Throws very long exception\n",
    "import java.util.*;\n",
    "import java.util.stream.*;\n",
    "\n",
    "public class InfiniteRecursion { \n",
    "    @Override \n",
    "    public String toString() { \n",
    "        return \" InfiniteRecursion address: \" + this + \"\\n\"\n",
    "    } \n",
    "    public static void main(String[] args) { \n",
    "        Stream.generate(InfiniteRecursion::new) \n",
    "            .limit(10) \n",
    "            .forEach(System.out::println); \n",
    "    } \n",
    "} "
   ]
  },
  {
   "cell_type": "markdown",
   "metadata": {},
   "source": [
    "当你创建了 `InfiniteRecursion` 对象，并将其打印出来的时候，你会得到一串很长的异常信息。如果你将该 `InfiniteRecursion` 对象存入一个 `ArrayList` 中，然后打印该 `ArrayList`，同样也会抛出异常。其实，当运行到如下代码时："
   ]
  },
  {
   "cell_type": "code",
   "execution_count": null,
   "metadata": {
    "attributes": {
     "classes": [
      "java"
     ],
     "id": ""
    }
   },
   "outputs": [],
   "source": [
    "\"InfiniteRecursion address: \" + this "
   ]
  },
  {
   "cell_type": "markdown",
   "metadata": {},
   "source": [
    "这里发生了自动类型转换，由 `InfiniteRecursion` 类型转换为 `String` 类型。因为编译器发现一个 `String` 对象后面跟着一个 “+”，而 “+” 后面的对象不是 `String`，于是编译器试着将 `this` 转换成一个 `String`。它怎么转换呢？正是通过调用 `this` 上的 `toString()` 方法，于是就发生了递归调用。\n",
    "\n",
    "如果你真的想要打印对象的内存地址，应该调用 `Object.toString()` 方法，这才是负责此任务的方法。所以，不要使用 `this`，而是应该调用 `super.toString()` 方法。\n",
    "\n",
    "\n",
    "<!-- Operations on Strings -->\n",
    "## 字符串操作\n",
    "以下是 `String` 对象具备的一些基本方法。重载的方法归纳在同一行中：\n",
    "\n",
    "| 方法 | 参数，重载版本 | 作用 |\n",
    "| ---- | ---- | ---- |\n",
    "| 构造方法 | 默认版本，`String`，`StringBuilder`，`StringBuffer`，`char`数组，`byte`数组 | 创建`String`对象 |\n",
    "| `length()` | | `String`中字符的个数 |\n",
    "| `charAt()` | `int`索引|获取`String`中索引位置上的`char` |\n",
    "| `getChars()`，`getBytes()` | 待复制部分的开始和结束索引，复制的目标数组，目标数组的开始索引 | 复制`char`或`byte`到一个目标数组中 |\n",
    "| `toCharArray()` | | 生成一个`char[]`，包含`String`中的所有字符 |\n",
    "| `equals()`，`equalsIgnoreCase()` | 与之进行比较的`String` | 比较两个`String`的内容是否相同。如果相同，结果为`true` |\n",
    "| `compareTo()`，`compareToIgnoreCase()` | 与之进行比较的`String` | 按词典顺序比较`String`的内容，比较结果为负数、零或正数。注意，大小写不等价 |\n",
    "| `contains()` | 要搜索的`CharSequence` | 如果该`String`对象包含参数的内容，则返回`true` |\n",
    "| `contentEquals()` | 与之进行比较的`CharSequence`或`StringBuffer` | 如果该`String`对象与参数的内容完全一致，则返回`true` |\n",
    "| `isEmpty()` | | 返回`boolean`结果，以表明`String`对象的长度是否为0 |\n",
    "| `regionMatches()` | 该`String`的索引偏移量，另一个`String`及其索引偏移量，要比较的长度。重载版本增加了“忽略大小写”功能|返回`boolean`结果，以表明所比较区域是否相等 |\n",
    "| `startsWith()` | 可能的起始`String`。重载版本在参数中增加了偏移量 | 返回`boolean`结果，以表明该`String`是否以传入参数开始 |\n",
    "| `endsWith()` | 该`String`可能的后缀`String` | 返回`boolean`结果，以表明此参数是否是该字符串的后缀 |\n",
    "| `indexOf()`，`lastIndexOf()` | 重载版本包括：`char`，`char`与起始索引，`String`，`String`与起始索引 | 如果该`String`并不包含此参数，就返回-1；否则返回此参数在`String`中的起始索引。`lastIndexOf`()是从后往前搜索 |\n",
    "| `matches()` | 一个正则表达式 | 返回`boolean`结果，以表明该`String`和给出的正则表达式是否匹配 |\n",
    "| `split()` | 一个正则表达式。可选参数为需要拆分的最大数量 | 按照正则表达式拆分`String`，返回一个结果数组 |\n",
    "| `join()`（Java8引入的）|分隔符，待拼字符序列。用分隔符将字符序列拼接成一个新的`String` |用分隔符拼接字符片段，产生一个新的`String` |\n",
    "| `substring()`（即`subSequence()`）| 重载版本：起始索引；起始索引+终止索引 | 返回一个新的`String`对象，以包含参数指定的子串 |\n",
    "| `concat()` | 要连接的`String` |返回一个新的`String`对象，内容为原始`String`连接上参数`String` |\n",
    "| `replace()` | 要替换的字符，用来进行替换的新字符。也可以用一个`CharSequence`替换另一个`CharSequence` |返回替换字符后的新`String`对象。如果没有替换发生，则返回原始的`String`对象 |\n",
    "| `replaceFirst()` |要替换的正则表达式，用来进行替换的`String` | 返回替换首个目标字符串后的`String`对象 |\n",
    "| `replaceAll()` | 要替换的正则表达式，用来进行替换的`String` | 返回替换所有目标字符串后的`String`对象 |\n",
    "| `toLowerCase()`，`toUpperCase()` | | 将字符的大小写改变后，返回一个新的`String`对象。如果没有任何改变，则返回原始的`String`对象|\n",
    "| `trim()` | |将`String`两端的空白符删除后，返回一个新的`String`对象。如果没有任何改变，则返回原始的`String`对象|\n",
    "| `valueOf()`（`static`）|重载版本：`Object`；`char[]`；`char[]`，偏移量，与字符个数；`boolean`；`char`；`int`；`long`；`float`；`double` | 返回一个表示参数内容的`String` |\n",
    "| `intern()` | | 为每个唯一的字符序列生成一个且仅生成一个`String`引用 |\n",
    "| `format()` | 要格式化的字符串，要替换到格式化字符串的参数 | 返回格式化结果`String` |\n",
    "\n",
    "从这个表可以看出，当需要改变字符串的内容时，`String` 类的方法都会返回一个新的 `String` 对象。同时，如果内容不改变，`String` 方法只是返回原始对象的一个引用而已。这可以节约存储空间以及避免额外的开销。\n",
    "\n",
    "本章稍后还将介绍正则表达式在 `String` 方法中的应用。\n",
    "\n",
    "<!-- Formatting Output -->\n",
    "\n",
    "## 格式化输出\n",
    "在长久的等待之后，Java SE5 终于推出了 C 语言中 `printf()` 风格的格式化输出这一功能。这不仅使得控制输出的代码更加简单，同时也给与Java开发者对于输出格式与排列更强大的控制能力。\n",
    "### `printf()`\n",
    "C 语言的 `printf()` 并不像 Java 那样连接字符串，它使用一个简单的格式化字符串，加上要插入其中的值，然后将其格式化输出。 `printf()` 并不使用重载的 `+` 操作符（C语言没有重载）来连接引号内的字符串或字符串变量，而是使用特殊的占位符来表示数据将来的位置。而且它还将插入格式化字符串的参数，以逗号分隔，排成一行。例如："
   ]
  },
  {
   "cell_type": "code",
   "execution_count": null,
   "metadata": {
    "attributes": {
     "classes": [
      "c"
     ],
     "id": ""
    }
   },
   "outputs": [],
   "source": [
    "System.out.printf(\"Row 1: [%d %f]%n\", x, y);"
   ]
  },
  {
   "cell_type": "markdown",
   "metadata": {},
   "source": [
    "这一行代码在运行的时候，首先将 `x` 的值插入到 `%d_` 的位置，然后将 `y` 的值插入到 `%f` 的位置。这些占位符叫做*格式修饰符*，它们不仅指明了插入数据的位置，同时还指明了将会插入什么类型的变量，以及如何格式化。在这个例子中 `%d` 表示 `x` 是一个整数，`%f` 表示 `y` 是一个浮点数（`float` 或者 `double`）。\n",
    "### `System.out.format()`\n",
    "Java SE5 引入了 `format()` 方法，可用于 `PrintStream` 或者 `PrintWriter` 对象（你可以在 [附录:流式 I/O](./Appendix-IO-Streams.md) 了解更多内容），其中也包括 `System.out` 对象。`format()` 方法模仿了 C 语言的 `printf()`。如果你比较怀旧的话，也可以使用 `printf()`。以下是一个简单的示例："
   ]
  },
  {
   "cell_type": "code",
   "execution_count": null,
   "metadata": {
    "attributes": {
     "classes": [
      "java"
     ],
     "id": ""
    }
   },
   "outputs": [],
   "source": [
    "// strings/SimpleFormat.java \n",
    "\n",
    "public class SimpleFormat {   \n",
    "    public static void main(String[] args) {     \n",
    "        int x = 5;     \n",
    "        double y = 5.332542;     \n",
    "        // The old way: \n",
    "        System.out.println(\"Row 1: [\" + x + \" \" + y + \"]\");     \n",
    "        // The new way:     \n",
    "        System.out.format(\"Row 1: [%d %f]%n\", x, y);     \n",
    "        // or     \n",
    "        System.out.printf(\"Row 1: [%d %f]%n\", x, y);   \n",
    "    } \n",
    "} \n",
    "/* Output: \n",
    "Row 1: [5 5.332542] \n",
    "Row 1: [5 5.332542] \n",
    "Row 1: [5 5.332542] \n",
    "*/"
   ]
  },
  {
   "cell_type": "markdown",
   "metadata": {},
   "source": [
    "可以看到，`format()` 和  `printf()` 是等价的，它们只需要一个简单的格式化字符串，加上一串参数即可，每个参数对应一个格式修饰符。\n",
    "\n",
    "`String` 类也有一个 `static format()` 方法，可以格式化字符串。\n",
    "\n",
    "### `Formatter` 类\n",
    "在 Java 中，所有的格式化功能都是由 `java.util.Formatter` 类处理的。可以将 `Formatter` 看做一个翻译器，它将你的格式化字符串与数据翻译成需要的结果。当你创建一个 `Formatter` 对象时，需要向其构造器传递一些信息，告诉它最终的结果将向哪里输出："
   ]
  },
  {
   "cell_type": "code",
   "execution_count": null,
   "metadata": {
    "attributes": {
     "classes": [
      "java"
     ],
     "id": ""
    }
   },
   "outputs": [],
   "source": [
    "// strings/Turtle.java \n",
    "import java.io.*;\n",
    "import java.util.*;\n",
    "\n",
    "public class Turtle {   \n",
    "    private String name;   \n",
    "    private Formatter f;  \n",
    "    public Turtle(String name, Formatter f) {\n",
    "        this.name = name;     \n",
    "        this.f = f;   \n",
    "    }   \n",
    "    public void move(int x, int y) {     \n",
    "        f.format(\"%s The Turtle is at (%d,%d)%n\",       \n",
    "            name, x, y);   \n",
    "    }\n",
    "    public static void main(String[] args) {    \n",
    "        PrintStream outAlias = System.out;     \n",
    "        Turtle tommy = new Turtle(\"Tommy\",\n",
    "            new Formatter(System.out));     \n",
    "        Turtle terry = new Turtle(\"Terry\",       \n",
    "            new Formatter(outAlias));     \n",
    "        tommy.move(0,0);     \n",
    "        terry.move(4,8);     \n",
    "        tommy.move(3,4);     \n",
    "        terry.move(2,5);     \n",
    "        tommy.move(3,3);     \n",
    "        terry.move(3,3);   \n",
    "    } \n",
    "} \n",
    "/* Output: \n",
    "Tommy The Turtle is at (0,0) \n",
    "Terry The Turtle is at (4,8) \n",
    "Tommy The Turtle is at (3,4) \n",
    "Terry The Turtle is at (2,5) \n",
    "Tommy The Turtle is at (3,3) \n",
    "Terry The Turtle is at (3,3) \n",
    "*/"
   ]
  },
  {
   "cell_type": "markdown",
   "metadata": {},
   "source": [
    "格式化修饰符 `%s` 表明这里需要 `String` 参数。\n",
    "\n",
    "所有的 `tommy` 都将输出到 `System.out`，而所有的 `terry` 则都输出到 `System.out` 的一个别名中。`Formatter` 的重载构造器支持输出到多个路径，不过最常用的还是 `PrintStream()`（如上例）、`OutputStream` 和 `File`。你可以在 [附录:流式 I/O](././Appendix-IO-Streams.md) 中了解更多信息。\n",
    "### 格式化修饰符\n",
    "在插入数据时，如果想要优化空格与对齐，你需要更精细复杂的格式修饰符。以下是其通用语法："
   ]
  },
  {
   "cell_type": "code",
   "execution_count": null,
   "metadata": {
    "attributes": {
     "classes": [
      "java"
     ],
     "id": ""
    }
   },
   "outputs": [],
   "source": [
    "%[argument_index$][flags][width][.precision]conversion "
   ]
  },
  {
   "cell_type": "markdown",
   "metadata": {},
   "source": [
    "最常见的应用是控制一个字段的最小长度，这可以通过指定 *width* 来实现。`Formatter `对象通过在必要时添加空格，来确保一个字段至少达到设定长度。默认情况下，数据是右对齐的，不过可以通过使用 `-` 标志来改变对齐方向。\n",
    "\n",
    "与 *width* 相对的是 *precision*，用于指定最大长度。*width* 可以应用于各种类型的数据转换，并且其行为方式都一样。*precision* 则不然，当应用于不同类型的数据转换时，*precision* 的意义也不同。在将 *precision* 应用于 `String` 时，它表示打印 `string` 时输出字符的最大数量。而在将 *precision* 应用于浮点数时，它表示小数部分要显示出来的位数（默认是 6 位小数），如果小数位数过多则舍入，太少则在尾部补零。由于整数没有小数部分，所以 *precision* 无法应用于整数，如果你对整数应用 *precision*，则会触发异常。\n",
    "\n",
    "下面的程序应用格式修饰符来打印一个购物收据。这是 *Builder* 设计模式的一个简单实现，即先创建一个初始对象，然后逐渐添加新东西，最后调用 `build()` 方法完成构建："
   ]
  },
  {
   "cell_type": "code",
   "execution_count": null,
   "metadata": {
    "attributes": {
     "classes": [
      "java"
     ],
     "id": ""
    }
   },
   "outputs": [],
   "source": [
    "// strings/ReceiptBuilder.java \n",
    "import java.util.*; \n",
    "\n",
    "public class ReceiptBuilder {   \n",
    "    private double total = 0;   \n",
    "    private Formatter f =     \n",
    "        new Formatter(new StringBuilder());   \n",
    "    public ReceiptBuilder() {     \n",
    "        f.format(       \n",
    "          \"%-15s %5s %10s%n\", \"Item\", \"Qty\", \"Price\");     \n",
    "        f.format(       \n",
    "          \"%-15s %5s %10s%n\", \"----\", \"---\", \"-----\");   \n",
    "        }   \n",
    "    public void add(String name, int qty, double price) {     \n",
    "        f.format(\"%-15.15s %5d %10.2f%n\", name, qty, price);     \n",
    "        total += price * qty;   \n",
    "    }  \n",
    "    public String build() {     \n",
    "        f.format(\"%-15s %5s %10.2f%n\", \"Tax\", \"\",       \n",
    "          total * 0.06);     \n",
    "        f.format(\"%-15s %5s %10s%n\", \"\", \"\", \"-----\");     \n",
    "        f.format(\"%-15s %5s %10.2f%n\", \"Total\", \"\",       \n",
    "          total * 1.06);     \n",
    "        return f.toString();   \n",
    "    }   \n",
    "    public static void main(String[] args) {     \n",
    "        ReceiptBuilder receiptBuilder =       \n",
    "          new ReceiptBuilder();     \n",
    "        receiptBuilder.add(\"Jack's Magic Beans\", 4, 4.25);     \n",
    "        receiptBuilder.add(\"Princess Peas\", 3, 5.1);     \n",
    "        receiptBuilder.add(       \n",
    "          \"Three Bears Porridge\", 1, 14.29);     \n",
    "        System.out.println(receiptBuilder.build());   \n",
    "    } \n",
    "} \n",
    "/* Output: \n",
    "Item              Qty      Price \n",
    "----              ---      ----- \n",
    "Jack's Magic Be     4       4.25 \n",
    "Princess Peas       3       5.10 \n",
    "Three Bears Por     1      14.29 \n",
    "Tax                         2.80 \n",
    "                           ----- \n",
    "Total                      49.39 \n",
    "*/ "
   ]
  },
  {
   "cell_type": "markdown",
   "metadata": {},
   "source": [
    "通过传入一个 `StringBuilder` 对象到 `Formatter` 的构造器，我们指定了一个容器来构建目标 `String`。你也可以通过不同的构造器参数，把结果输出到标准输出，甚至是一个文件里。\n",
    "\n",
    "正如你所见，通过相当简洁的语法，`Formatter ` 提供了对空格与对齐的强大控制能力。在该程序中，为了恰当地控制间隔，格式化字符串被重复利用了多遍。\n",
    "### `Formatter` 转换\n",
    "下面的表格展示了最常用的类型转换：\n",
    "\n",
    "| 类型 | 含义 |\n",
    "| :----: | :---- |\n",
    "| `d` | 整型（十进制） |\n",
    "| `c` | Unicode字符 |\n",
    "| `b` | Boolean值 |\n",
    "| `s` | String |\n",
    "| `f` | 浮点数（十进制） |\n",
    "| `e` | 浮点数（科学计数） |\n",
    "| `x` | 整型（十六进制） |\n",
    "| `h` | 散列码（十六进制） |\n",
    "| `%` | 字面值“%” |\n",
    "\n",
    "下面的程序演示了这些转换是如何工作的："
   ]
  },
  {
   "cell_type": "code",
   "execution_count": null,
   "metadata": {
    "attributes": {
     "classes": [
      "java"
     ],
     "id": ""
    }
   },
   "outputs": [],
   "source": [
    "// strings/Conversion.java \n",
    "import java.math.*;\n",
    "import java.util.*; \n",
    "\n",
    "public class Conversion {   \n",
    "    public static void main(String[] args) {     \n",
    "        Formatter f = new Formatter(System.out); \n",
    "\n",
    "        char u = 'a';     \n",
    "        System.out.println(\"u = 'a'\");     \n",
    "        f.format(\"s: %s%n\", u);     \n",
    "        // f.format(\"d: %d%n\", u);     \n",
    "        f.format(\"c: %c%n\", u);     \n",
    "        f.format(\"b: %b%n\", u);     \n",
    "        // f.format(\"f: %f%n\", u);     \n",
    "        // f.format(\"e: %e%n\", u);     \n",
    "        // f.format(\"x: %x%n\", u);     \n",
    "        f.format(\"h: %h%n\", u); \n",
    "\n",
    "        int v = 121;     \n",
    "        System.out.println(\"v = 121\");    \n",
    "        f.format(\"d: %d%n\", v);     \n",
    "        f.format(\"c: %c%n\", v);     \n",
    "        f.format(\"b: %b%n\", v);     \n",
    "        f.format(\"s: %s%n\", v);     \n",
    "        // f.format(\"f: %f%n\", v);     \n",
    "        // f.format(\"e: %e%n\", v);     \n",
    "        f.format(\"x: %x%n\", v);     \n",
    "        f.format(\"h: %h%n\", v); \n",
    "\n",
    "        BigInteger w = new BigInteger(\"50000000000000\");     \n",
    "        System.out.println(       \n",
    "          \"w = new BigInteger(\\\"50000000000000\\\")\");     \n",
    "        f.format(\"d: %d%n\", w);     \n",
    "        // f.format(\"c: %c%n\", w);     \n",
    "        f.format(\"b: %b%n\", w);     \n",
    "        f.format(\"s: %s%n\", w);     \n",
    "        // f.format(\"f: %f%n\", w);     \n",
    "        // f.format(\"e: %e%n\", w);     \n",
    "        f.format(\"x: %x%n\", w);     \n",
    "        f.format(\"h: %h%n\", w); \n",
    "\n",
    "        double x = 179.543;     \n",
    "        System.out.println(\"x = 179.543\");     \n",
    "        // f.format(\"d: %d%n\", x);     \n",
    "        // f.format(\"c: %c%n\", x);     \n",
    "        f.format(\"b: %b%n\", x);     \n",
    "        f.format(\"s: %s%n\", x);     \n",
    "        f.format(\"f: %f%n\", x);     \n",
    "        f.format(\"e: %e%n\", x);     \n",
    "        // f.format(\"x: %x%n\", x);     \n",
    "        f.format(\"h: %h%n\", x); \n",
    "\n",
    "        Conversion y = new Conversion();     \n",
    "        System.out.println(\"y = new Conversion()\"); \n",
    "\n",
    "        // f.format(\"d: %d%n\", y);     \n",
    "        // f.format(\"c: %c%n\", y);     \n",
    "        f.format(\"b: %b%n\", y);     \n",
    "        f.format(\"s: %s%n\", y);     \n",
    "        // f.format(\"f: %f%n\", y);     \n",
    "        // f.format(\"e: %e%n\", y);     \n",
    "        // f.format(\"x: %x%n\", y);     \n",
    "        f.format(\"h: %h%n\", y); \n",
    "\n",
    "        boolean z = false;     \n",
    "        System.out.println(\"z = false\");     \n",
    "        // f.format(\"d: %d%n\", z);     \n",
    "        // f.format(\"c: %c%n\", z);     \n",
    "        f.format(\"b: %b%n\", z);     \n",
    "        f.format(\"s: %s%n\", z);     \n",
    "        // f.format(\"f: %f%n\", z);     \n",
    "        // f.format(\"e: %e%n\", z);     \n",
    "        // f.format(\"x: %x%n\", z);     \n",
    "        f.format(\"h: %h%n\", z);   \n",
    "    } \n",
    "} \n",
    "/* Output: \n",
    "u = 'a' \n",
    "s: a \n",
    "c: a \n",
    "b: true \n",
    "h: 61 \n",
    "v = 121 \n",
    "d: 121 \n",
    "c: y \n",
    "b: true \n",
    "s: 121 \n",
    "x: 79 \n",
    "h: 79 \n",
    "w = new BigInteger(\"50000000000000\") \n",
    "d: 50000000000000 \n",
    "b: true \n",
    "s: 50000000000000 \n",
    "x: 2d79883d2000 \n",
    "h: 8842a1a7 \n",
    "x = 179.543 \n",
    "b: true \n",
    "s: 179.543 \n",
    "f: 179.543000 \n",
    "e: 1.795430e+02 \n",
    "h: 1ef462c \n",
    "y = new Conversion() \n",
    "b: true \n",
    "s: Conversion@15db9742 \n",
    "h: 15db9742 \n",
    "z = false \n",
    "b: false \n",
    "s: false\n",
    "h: 4d5 \n",
    "*/"
   ]
  },
  {
   "cell_type": "markdown",
   "metadata": {},
   "source": [
    "被注释的代码表示，针对相应类型的变量，这些转换是无效的。如果执行这些转换，则会触发异常。\n",
    "\n",
    "注意，程序中的每个变量都用到了 `b` 转换。虽然它对各种类型都是合法的，但其行为却不一定与你想象的一致。对于 `boolean` 基本类型或 `Boolean` 对象，其转换结果是对应的 `true` 或 `false`。但是，对其他类型的参数，只要该参数不为 `null`，其转换结果永远都是 `true`。即使是数字 0，转换结果依然为 `true`，而这在其他语言中（包括C），往往转换为 `false`。所以，将 `b` 应用于非布尔类型的对象时请格外小心。\n",
    "\n",
    "还有许多不常用的类型转换与格式修饰符选项，你可以在 JDK 文档中的 `Formatter` 类部分找到它们。\n",
    "### `String.format()`\n",
    "Java SE5 也参考了 C 中的 `sprintf()` 方法，以生成格式化的 `String` 对象。`String.format()` 是一个 `static` 方法，它接受与 `Formatter.format()` 方法一样的参数，但返回一个 `String` 对象。当你只需使用一次 `format()` 方法的时候，`String.format()` 用起来很方便。例如："
   ]
  },
  {
   "cell_type": "code",
   "execution_count": null,
   "metadata": {
    "attributes": {
     "classes": [
      "java"
     ],
     "id": ""
    }
   },
   "outputs": [],
   "source": [
    "// strings/DatabaseException.java \n",
    "\n",
    "public class DatabaseException extends Exception {   \n",
    "    public DatabaseException(int transactionID,     \n",
    "      int queryID, String message) {     \n",
    "      super(String.format(\"(t%d, q%d) %s\", transactionID,         \n",
    "        queryID, message));   \n",
    "    }   \n",
    "    public static void main(String[] args) {     \n",
    "      try {       \n",
    "        throw new DatabaseException(3, 7, \"Write failed\");     \n",
    "      } catch(Exception e) {       \n",
    "        System.out.println(e);     \n",
    "      }   \n",
    "    } \n",
    "} \n",
    "/* \n",
    "Output: \n",
    "DatabaseException: (t3, q7) Write failed \n",
    "*/"
   ]
  },
  {
   "cell_type": "markdown",
   "metadata": {},
   "source": [
    "其实在 `String.format()` 内部，它也是创建了一个 `Formatter` 对象，然后将你传入的参数转给 `Formatter`。不过，与其自己做这些事情，不如使用便捷的 `String.format()` 方法，何况这样的代码更清晰易读。\n",
    "#### 一个十六进制转储（dump）工具\n",
    "在第二个例子中，我们把二进制文件转换为十六进制格式。下面的小工具使用了 `String.format()` 方法，以可读的十六进制格式将字节数组打印出来："
   ]
  },
  {
   "cell_type": "code",
   "execution_count": null,
   "metadata": {
    "attributes": {
     "classes": [
      "java"
     ],
     "id": ""
    }
   },
   "outputs": [],
   "source": [
    "// strings/Hex.java \n",
    "// {java onjava.Hex} \n",
    "package onjava;\n",
    "import java.io.*; \n",
    "import java.nio.file.*; \n",
    "\n",
    "public class Hex {   \n",
    "    public static String format(byte[] data) {     \n",
    "        StringBuilder result = new StringBuilder();     \n",
    "        int n = 0;     \n",
    "        for(byte b : data) {       \n",
    "            if(n % 16 == 0)         \n",
    "                result.append(String.format(\"%05X: \", n));       \n",
    "            result.append(String.format(\"%02X \", b));       \n",
    "            n++;       \n",
    "            if(n % 16 == 0) result.append(\"\\n\");     \n",
    "        }     \n",
    "        result.append(\"\\n\");     \n",
    "        return result.toString();   \n",
    "    }   \n",
    "    public static void main(String[] args) throws Exception {  \n",
    "        if(args.length == 0)       \n",
    "            // Test by displaying this class file:       \n",
    "            System.out.println(format(         \n",
    "                Files.readAllBytes(Paths.get(           \n",
    "                  \"build/classes/main/onjava/Hex.class\"))));     \n",
    "        else       \n",
    "            System.out.println(format(         \n",
    "                Files.readAllBytes(Paths.get(args[0]))));   \n",
    "    } \n",
    "} \n",
    "/* Output: (First 6 Lines) \n",
    "00000: CA FE BA BE 00 00 00 34 00 61 0A 00 05 00 31 07 \n",
    "00010: 00 32 0A 00 02 00 31 08 00 33 07 00 34 0A 00 35 \n",
    "00020: 00 36 0A 00 0F 00 37 0A 00 02 00 38 08 00 39 0A \n",
    "00030: 00 3A 00 3B 08 00 3C 0A 00 02 00 3D 09 00 3E 00 \n",
    "00040: 3F 08 00 40 07 00 41 0A 00 42 00 43 0A 00 44 00 \n",
    "00050: 45 0A 00 14 00 46 0A 00 47 00 48 07 00 49 01 00\n",
    "                  ... \n",
    "*/"
   ]
  },
  {
   "cell_type": "markdown",
   "metadata": {},
   "source": [
    "为了打开及读入二进制文件，我们用到了另一个工具 `Files.readAllBytes()`，这已经在 [Files章节](./17-Files.md) 介绍过了。这里的 `readAllBytes()` 方法将整个文件以 `byte` 数组的形式返回。\n",
    "\n",
    "<!-- Regular Expressions -->\n",
    "\n",
    "## 正则表达式\n",
    "很久之前，*正则表达式*就已经整合到标准 Unix 工具集之中，例如 sed、awk 和程序语言之中了，如 Python 和Perl（有些人认为正是正则表达式促成了 Perl 的成功）。而在 Java 中，字符串操作还主要集中于`String`、`StringBuffer` 和 `StringTokenizer` 类。与正则表达式相比较，它们只能提供相当简单的功能。\n",
    "\n",
    "正则表达式是一种强大而灵活的文本处理工具。使用正则表达式，我们能够以编程的方式，构造复杂的文本模式，并对输入 `String` 进行搜索。一旦找到了匹配这些模式的部分，你就能随心所欲地对它们进行处理。初学正则表达式时，其语法是一个难点，但它确实是一种简洁、动态的语言。正则表达式提供了一种完全通用的方式，能够解决各种 `String` 处理相关的问题：匹配、选择、编辑以及验证。\n",
    "### 基础\n",
    "一般来说，正则表达式就是以某种方式来描述字符串，因此你可以说：“如果一个字符串含有这些东西，那么它就是我正在找的东西。”例如，要找一个数字，它可能有一个负号在最前面，那你就写一个负号加上一个问号，就像这样："
   ]
  },
  {
   "cell_type": "code",
   "execution_count": null,
   "metadata": {
    "attributes": {
     "classes": [
      "java"
     ],
     "id": ""
    }
   },
   "outputs": [],
   "source": [
    "-?"
   ]
  },
  {
   "cell_type": "markdown",
   "metadata": {},
   "source": [
    "要描述一个整数，你可以说它有一位或多位阿拉伯数字。在正则表达式中，用 `\\d` 表示一位数字。如果在其他语言中使用过正则表达式，那你可能就能发现 Java 对反斜线 \\ 的不同处理方式。在其他语言中，`\\\\` 表示“我想要在正则表达式中插入一个普通的（字面上的）反斜线，请不要给它任何特殊的意义。”而在Java中，`\\\\` 的意思是“我要插入一个正则表达式的反斜线，所以其后的字符具有特殊的意义。”例如，如果你想表示一位数字，那么正则表达式应该是 `\\\\d`。如果你想插入一个普通的反斜线，应该这样写 `\\\\\\`。不过换行符和制表符之类的东西只需要使用单反斜线：`\\n\\t`。 [^2]\n",
    "\n",
    "要表示“一个或多个之前的表达式”，应该使用 `+`。所以，如果要表示“可能有一个负号，后面跟着一位或多位数字”，可以这样："
   ]
  },
  {
   "cell_type": "code",
   "execution_count": null,
   "metadata": {
    "attributes": {
     "classes": [
      "java"
     ],
     "id": ""
    }
   },
   "outputs": [],
   "source": [
    "-?\\\\d+ "
   ]
  },
  {
   "cell_type": "markdown",
   "metadata": {},
   "source": [
    "应用正则表达式最简单的途径，就是利用 `String` 类内建的功能。例如，你可以检查一个 `String` 是否匹配如上所述的正则表达式："
   ]
  },
  {
   "cell_type": "code",
   "execution_count": null,
   "metadata": {
    "attributes": {
     "classes": [
      "java"
     ],
     "id": ""
    }
   },
   "outputs": [],
   "source": [
    "// strings/IntegerMatch.java \n",
    "\n",
    "public class IntegerMatch {  \n",
    "    public static void main(String[] args) {     \n",
    "        System.out.println(\"-1234\".matches(\"-?\\\\d+\"));    \n",
    "        System.out.println(\"5678\".matches(\"-?\\\\d+\"));     \n",
    "        System.out.println(\"+911\".matches(\"-?\\\\d+\"));     \n",
    "        System.out.println(\"+911\".matches(\"(-|\\\\+)?\\\\d+\"));   \n",
    "    }\n",
    "}\n",
    "/* Output: \n",
    "true \n",
    "true \n",
    "false \n",
    "true \n",
    "*/ "
   ]
  },
  {
   "cell_type": "markdown",
   "metadata": {},
   "source": [
    "前两个字符串都满足对应的正则表达式，匹配成功。第三个字符串以 `+` 开头，这也是一个合法的符号，但与对应的正则表达式却不匹配。因此，我们的正则表达式应该描述为：“可能以一个加号或减号开头”。在正则表达式中，用括号将表达式进行分组，用竖线 ` | ` 表示或操作。也就是："
   ]
  },
  {
   "cell_type": "code",
   "execution_count": null,
   "metadata": {
    "attributes": {
     "classes": [
      "java"
     ],
     "id": ""
    }
   },
   "outputs": [],
   "source": [
    "(-|\\\\+)? "
   ]
  },
  {
   "cell_type": "markdown",
   "metadata": {},
   "source": [
    "这个正则表达式表示字符串的起始字符可能是一个 `-` 或 `+`，或者二者都没有（因为后面跟着 `?` 修饰符）。因为字符 `+` 在正则表达式中有特殊的意义，所以必须使用 `\\\\` 将其转义，使之成为表达式中的一个普通字符。\n",
    "\n",
    "`String`类还自带了一个非常有用的正则表达式工具——`split()` 方法，其功能是“将字符串从正则表达式匹配的地方切开。”"
   ]
  },
  {
   "cell_type": "code",
   "execution_count": null,
   "metadata": {
    "attributes": {
     "classes": [
      "java"
     ],
     "id": ""
    }
   },
   "outputs": [],
   "source": [
    "// strings/Splitting.java import java.util.*; \n",
    "\n",
    "public class Splitting {\n",
    "    public static String knights =   \n",
    "      \"Then, when you have found the shrubbery, \" +\n",
    "      \"you must cut down the mightiest tree in the \" +\n",
    "      \"forest...with... a herring!\";\n",
    "    public static void split(String regex) {\n",
    "        System.out.println(\n",
    "          Arrays.toString(knights.split(regex)));\n",
    "        }\n",
    "    public static void main(String[] args) {\n",
    "        split(\" \"); // Doesn't have to contain regex chars\n",
    "        split(\"\\\\W+\"); // Non-word characters\n",
    "        split(\"n\\\\W+\"); // 'n' followed by non-words\n",
    "    }\n",
    "}\n",
    "/* Output:\n",
    "[Then,, when, you, have, found, the, shrubbery,, you,\n",
    "must, cut, down, the, mightiest, tree, in, the,\n",
    "forest...with..., a, herring!]\n",
    "[Then, when, you, have, found, the, shrubbery, you,\n",
    "must, cut, down, the, mightiest, tree, in, the, forest,\n",
    "with, a, herring]\n",
    "[The, whe, you have found the shrubbery, you must cut\n",
    "dow, the mightiest tree i, the forest...with... a\n",
    "herring!]\n",
    "*/"
   ]
  },
  {
   "cell_type": "markdown",
   "metadata": {},
   "source": [
    "首先看第一个语句，注意这里用的是普通的字符作为正则表达式，其中并不包含任何特殊字符。因此第一个 `split()` 只是按空格来划分字符串。\n",
    "\n",
    "第二个和第三个 `split()` 都用到了 `\\\\W`，它的意思是一个非单词字符（如果 W 小写，`\\\\w`，则表示一个单词字符）。通过第二个例子可以看到，它将标点字符删除了。第三个 `split()` 表示“字母 `n` 后面跟着一个或多个非单词字符。”可以看到，在原始字符串中，与正则表达式匹配的部分，在最终结果中都不存在了。\n",
    "\n",
    "`String.split()` 还有一个重载的版本，它允许你限制字符串分割的次数。\n",
    "\n",
    "用正则表达式进行替换操作时，你可以只替换第一处匹配，也可以替换所有的匹配："
   ]
  },
  {
   "cell_type": "code",
   "execution_count": null,
   "metadata": {
    "attributes": {
     "classes": [
      "java"
     ],
     "id": ""
    }
   },
   "outputs": [],
   "source": [
    "// strings/Replacing.java \n",
    "\n",
    "public class Replacing {\n",
    "    static String s = Splitting.knights;   \n",
    "    public static void main(String[] args) {\n",
    "        System.out.println(\n",
    "          s.replaceFirst(\"f\\\\w+\", \"located\"));\n",
    "        System.out.println(       \n",
    "          s.replaceAll(\"shrubbery|tree|herring\",\"banana\"));   \n",
    "    } \n",
    "}\n",
    "/* Output: \n",
    "Then, when you have located the shrubbery, you must cut \n",
    "down the mightiest tree in the forest...with... a \n",
    "herring! \n",
    "Then, when you have found the banana, you must cut down\n",
    "the mightiest banana in the forest...with... a banana! \n",
    "*/"
   ]
  },
  {
   "cell_type": "markdown",
   "metadata": {},
   "source": [
    "第一个表达式要匹配的是，以字母 `f` 开头，后面跟一个或多个字母（注意这里的 `w` 是小写的）。并且只替换掉第一个匹配的部分，所以 “found” 被替换成 “located”。\n",
    "\n",
    "第二个表达式要匹配的是三个单词中的任意一个，因为它们以竖线分割表示“或”，并且替换所有匹配的部分。\n",
    "\n",
    "稍后你会看到，`String` 之外的正则表达式还有更强大的替换工具，例如，可以通过方法调用执行替换。而且，如果正则表达式不是只使用一次的话，非 `String` 对象的正则表达式明显具备更佳的性能。\n",
    "### 创建正则表达式\n",
    "我们首先从正则表达式可能存在的构造集中选取一个很有用的子集，以此开始学习正则表达式。正则表达式的完整构造子列表，请参考JDK文档 `java.util.regex` 包中的 `Pattern`类。\n",
    "\n",
    "| 表达式 | 含义 |\n",
    "| :---- | :---- |\n",
    "| `B` | 指定字符`B` |\n",
    "| `\\xhh` | 十六进制值为`0xhh`的字符 |\n",
    "| `\\uhhhh` | 十六进制表现为`0xhhhh`的Unicode字符 |\n",
    "| `\\t` | 制表符Tab |\n",
    "| `\\n` | 换行符 |\n",
    "| `\\r` | 回车 |\n",
    "| `\\f` | 换页 |\n",
    "| `\\e` | 转义（Escape） |\n",
    "\n",
    "当你学会了使用字符类（character classes）之后，正则表达式的威力才能真正显现出来。以下是一些创建字符类的典型方式，以及一些预定义的类：\n",
    "\n",
    "| 表达式 | 含义 |\n",
    "| :---- | :---- |\n",
    "| `.` | 任意字符 |\n",
    "| `[abc]` |包含`a`、`b`或`c`的任何字符（和`a|b|c`作用相同）|\n",
    "| `[^abc]` | 除`a`、`b`和`c`之外的任何字符（否定） |\n",
    "| `[a-zA-Z]` | 从`a`到`z`或从`A`到`Z`的任何字符（范围） |\n",
    "| `[abc[hij]]` | `a`、`b`、`c`、`h`、`i`、`j`中的任意字符（与`a|b|c|h|i|j`作用相同）（合并） |\n",
    "| `[a-z&&[hij]]` | 任意`h`、`i`或`j`（交） |\n",
    "| `\\s` | 空白符（空格、tab、换行、换页、回车） |\n",
    "| `\\S` | 非空白符（`[^\\s]`） |\n",
    "| `\\d` | 数字（`[0-9]`） |\n",
    "| `\\D` | 非数字（`[^0-9]`） |\n",
    "| `\\w` | 词字符（`[a-zA-Z_0-9]`） |\n",
    "| `\\W` | 非词字符（`[^\\w]`） |\n",
    "\n",
    "这里只列出了部分常用的表达式，你应该将JDK文档中 `java.util.regex.Pattern` 那一页加入浏览器书签中，以便在需要的时候方便查询。\n",
    "\n",
    "| 逻辑操作符 | 含义 |\n",
    "| :----: | :---- |\n",
    "| `XY` | `Y`跟在`X`后面 |\n",
    "| `X|Y` | `X`或`Y` |\n",
    "| `(X)` | 捕获组（capturing group）。可以在表达式中用`\\i`引用第i个捕获组 |\n",
    "\n",
    "下面是不同的边界匹配符：\n",
    "\n",
    "| 边界匹配符 | 含义 |\n",
    "| :----: | :---- |\n",
    "| `^` | 一行的开始 |\n",
    "| `$` | 一行的结束 |\n",
    "| `\\b` | 词的边界 |\n",
    "| `\\B` | 非词的边界 |\n",
    "| `\\G` | 前一个匹配的结束 |\n",
    "\n",
    "作为演示，下面的每一个正则表达式都能成功匹配字符序列“Rudolph”："
   ]
  },
  {
   "cell_type": "code",
   "execution_count": null,
   "metadata": {
    "attributes": {
     "classes": [
      "java"
     ],
     "id": ""
    }
   },
   "outputs": [],
   "source": [
    "// strings/Rudolph.java \n",
    "\n",
    "public class Rudolph {   \n",
    "    public static void main(String[] args) {     \n",
    "        for(String pattern : new String[]{       \n",
    "          \"Rudolph\",       \n",
    "          \"[rR]udolph\",       \n",
    "          \"[rR][aeiou][a-z]ol.*\",       \n",
    "          \"R.*\" })       \n",
    "        System.out.println(\"Rudolph\".matches(pattern));   \n",
    "    } \n",
    "} \n",
    "/* Output: \n",
    "true \n",
    "true \n",
    "true \n",
    "true \n",
    "*/"
   ]
  },
  {
   "cell_type": "markdown",
   "metadata": {},
   "source": [
    "我们的目的并不是编写最难理解的正则表达式，而是尽量编写能够完成任务的、最简单以及最必要的正则表达式。一旦真正开始使用正则表达式了，你就会发现，在编写新的表达式之前，你通常会参考代码中已经用到的正则表达式。\n",
    "### 量词\n",
    "量词描述了一个模式捕获输入文本的方式：\n",
    "\n",
    "+ **贪婪型**：\n",
    "量词总是贪婪的，除非有其他的选项被设置。贪婪表达式会为所有可能的模式发现尽可能多的匹配。导致此问题的一个典型理由就是假定我们的模式仅能匹配第一个可能的字符组，如果它是贪婪的，那么它就会继续往下匹配。\n",
    "\n",
    "+ **勉强型**：\n",
    "用问号来指定，这个量词匹配满足模式所需的最少字符数。因此也被称作懒惰的、最少匹配的、非贪婪的或不贪婪的。\n",
    "\n",
    "+ **占有型**：\n",
    "目前，这种类型的量词只有在 Java 语言中才可用（在其他语言中不可用），并且也更高级，因此我们大概不会立刻用到它。当正则表达式被应用于 `String` 时，它会产生相当多的状态，以便在匹配失败时可以回溯。而“占有的”量词并不保存这些中间状态，因此它们可以防止回溯。它们常常用于防止正则表达式失控，因此可以使正则表达式执行起来更高效。\n",
    "\n",
    "| 贪婪型 | 勉强型 | 占有型 | 如何匹配 |\n",
    "| ---- | ---- | ---- | ---- |\n",
    "| `X?` | `X??` | `X?+` | 一个或零个`X` |\n",
    "| `X*` | `X*?` | `X*+` | 零个或多个`X` |\n",
    "| `X+` | `X+?` | `X++` | 一个或多个`X` |\n",
    "| `X{n}` | `X{n}?` | `X{n}+` | 恰好`n`次`X` |\n",
    "| `X{n,}` | `X{n,}?` | `X{n,}+` | 至少`n`次`X` |\n",
    "| `X{n,m}` | `X{n,m}?` | `X{n,m}+` | `X`至少`n`次，但不超过`m`次 |\n",
    "\n",
    "应该非常清楚地意识到，表达式 `X` 通常必须要用圆括号括起来，以便它能够按照我们期望的效果去执行。例如："
   ]
  },
  {
   "cell_type": "code",
   "execution_count": null,
   "metadata": {
    "attributes": {
     "classes": [
      "java"
     ],
     "id": ""
    }
   },
   "outputs": [],
   "source": [
    "abc+"
   ]
  },
  {
   "cell_type": "markdown",
   "metadata": {},
   "source": [
    "看起来它似乎应该匹配1个或多个`abc`序列，如果我们把它应用于输入字符串`abcabcabc`，则实际上会获得3个匹配。然而，这个表达式实际上表示的是：匹配`ab`，后面跟随1个或多个`c`。要表明匹配1个或多个完整的字符串`abc`，我们必须这样表示："
   ]
  },
  {
   "cell_type": "code",
   "execution_count": null,
   "metadata": {
    "attributes": {
     "classes": [
      "java"
     ],
     "id": ""
    }
   },
   "outputs": [],
   "source": [
    "(abc)+"
   ]
  },
  {
   "cell_type": "markdown",
   "metadata": {},
   "source": [
    "你会发现，在使用正则表达式时很容易混淆，因为它是一种在 Java 之上的新语言。\n",
    "### `CharSequence`\n",
    "接口 `CharSequence` 从 `CharBuffer`、`String`、`StringBuffer`、`StringBuilder` 类中抽象出了字符序列的一般化定义："
   ]
  },
  {
   "cell_type": "code",
   "execution_count": null,
   "metadata": {
    "attributes": {
     "classes": [
      "java"
     ],
     "id": ""
    }
   },
   "outputs": [],
   "source": [
    "interface CharSequence {   \n",
    "    char charAt(int i);   \n",
    "    int length();\n",
    "    CharSequence subSequence(int start, int end);\n",
    "    String toString(); \n",
    "}"
   ]
  },
  {
   "cell_type": "markdown",
   "metadata": {},
   "source": [
    "因此，这些类都实现了该接口。多数正则表达式操作都接受 `CharSequence` 类型参数。\n",
    "### `Pattern` 和 `Matcher`\n",
    "通常，比起功能有限的 `String` 类，我们更愿意构造功能强大的正则表达式对象。只需导入 `java.util.regex`包，然后用 `static Pattern.compile()` 方法来编译你的正则表达式即可。它会根据你的 `String` 类型的正则表达式生成一个 `Pattern` 对象。接下来，把你想要检索的字符串传入 `Pattern` 对象的 `matcher()` 方法。`matcher()` 方法会生成一个 `Matcher` 对象，它有很多功能可用（可以参考 `java.util.regext.Matcher` 的 JDK 文档）。例如，它的 `replaceAll()` 方法能将所有匹配的部分都替换成你传入的参数。\n",
    "\n",
    "作为第一个示例，下面的类可以用来测试正则表达式，看看它们能否匹配一个输入字符串。第一个控制台参数是将要用来搜索匹配的输入字符串，后面的一个或多个参数都是正则表达式，它们将被用来在输入的第一个字符串中查找匹配。在Unix/Linux上，命令行中的正则表达式必须用引号括起来。这个程序在测试正则表达式时很有用，特别是当你想验证它们是否具备你所期待的匹配功能的时候。[^3]"
   ]
  },
  {
   "cell_type": "code",
   "execution_count": null,
   "metadata": {
    "attributes": {
     "classes": [
      "java"
     ],
     "id": ""
    }
   },
   "outputs": [],
   "source": [
    "// strings/TestRegularExpression.java \n",
    "// Simple regular expression demonstration \n",
    "// {java TestRegularExpression \n",
    "// abcabcabcdefabc \"abc+\" \"(abc)+\" } \n",
    "import java.util.regex.*; \n",
    "\n",
    "public class TestRegularExpression {\n",
    "    public static void main(String[] args) {     \n",
    "        if(args.length < 2) {     \n",
    "            System.out.println(       \n",
    "              \"Usage:\\njava TestRegularExpression \" +         \n",
    "              \"characterSequence regularExpression+\");      \n",
    "            System.exit(0);    \n",
    "        }\n",
    "        System.out.println(\"Input: \\\"\" + args[0] + \"\\\"\");     \n",
    "        for(String arg : args) {       \n",
    "            System.out.println(         \n",
    "              \"Regular expression: \\\"\" + arg + \"\\\"\");       \n",
    "            Pattern p = Pattern.compile(arg);       \n",
    "            Matcher m = p.matcher(args[0]);       \n",
    "            while(m.find()) {         \n",
    "                System.out.println(           \n",
    "                  \"Match \\\"\" + m.group() + \"\\\" at positions \" +           \n",
    "                m.start() + \"-\" + (m.end() - 1));       \n",
    "            }     \n",
    "        }  \n",
    "    }\n",
    "}\n",
    "/* Output: \n",
    "Input: \"abcabcabcdefabc\" \n",
    "Regular expression: \"abcabcabcdefabc\" \n",
    "Match \"abcabcabcdefabc\" at positions 0-14 \n",
    "Regular expression: \"abc+\" \n",
    "Match \"abc\" at positions 0-2 \n",
    "Match \"abc\" at positions 3-5 \n",
    "Match \"abc\" at positions 6-8 \n",
    "Match \"abc\" at positions 12-14 \n",
    "Regular expression: \"(abc)+\"\n",
    "Match \"abcabcabc\" at positions 0-8 \n",
    "Match \"abc\" at positions 12-14 \n",
    "*/"
   ]
  },
  {
   "cell_type": "markdown",
   "metadata": {},
   "source": [
    "还可以在控制台参数中加入`“(abc){2,}”`，看看执行结果。\n",
    "\n",
    "`Pattern` 对象表示编译后的正则表达式。从这个例子可以看到，我们使用已编译的 `Pattern` 对象上的 `matcher()` 方法，加上一个输入字符串，从而共同构造了一个 `Matcher` 对象。同时，`Pattern` 类还提供了一个`static`方法："
   ]
  },
  {
   "cell_type": "code",
   "execution_count": null,
   "metadata": {
    "attributes": {
     "classes": [
      "java"
     ],
     "id": ""
    }
   },
   "outputs": [],
   "source": [
    "static boolean matches(String regex, CharSequence input)"
   ]
  },
  {
   "cell_type": "markdown",
   "metadata": {},
   "source": [
    "该方法用以检查 `regex` 是否匹配整个 `CharSequence` 类型的 `input` 参数。编译后的 `Pattern` 对象还提供了 `split()` 方法，它从匹配了 `regex` 的地方分割输入字符串，返回分割后的子字符串 `String` 数组。\n",
    "\n",
    "通过调用 `Pattern.matcher()` 方法，并传入一个字符串参数，我们得到了一个 `Matcher` 对象。使用 `Matcher` 上的方法，我们将能够判断各种不同类型的匹配是否成功："
   ]
  },
  {
   "cell_type": "code",
   "execution_count": null,
   "metadata": {
    "attributes": {
     "classes": [
      "java"
     ],
     "id": ""
    }
   },
   "outputs": [],
   "source": [
    "boolean matches() \n",
    "boolean lookingAt() \n",
    "boolean find() \n",
    "boolean find(int start)"
   ]
  },
  {
   "cell_type": "markdown",
   "metadata": {},
   "source": [
    "其中的 `matches()` 方法用来判断整个输入字符串是否匹配正则表达式模式，而 `lookingAt()` 则用来判断该字符串（不必是整个字符串）的起始部分是否能够匹配模式。\n",
    "### `find()`\n",
    "`Matcher.find()` 方法可用来在 `CharSequence` 中查找多个匹配。例如："
   ]
  },
  {
   "cell_type": "code",
   "execution_count": null,
   "metadata": {
    "attributes": {
     "classes": [
      "java"
     ],
     "id": ""
    }
   },
   "outputs": [],
   "source": [
    "// strings/Finding.java \n",
    "import java.util.regex.*; \n",
    "\n",
    "public class Finding {   \n",
    "    public static void main(String[] args) {     \n",
    "        Matcher m = Pattern.compile(\"\\\\w+\")       \n",
    "          .matcher(         \n",
    "            \"Evening is full of the linnet's wings\");     \n",
    "        while(m.find())       \n",
    "            System.out.print(m.group() + \" \");   \n",
    "        System.out.println();     \n",
    "        int i = 0;     \n",
    "        while(m.find(i)) {       \n",
    "            System.out.print(m.group() + \" \");       \n",
    "            i++;     \n",
    "        }   \n",
    "    }\n",
    "}\n",
    "/* Output: \n",
    "Evening is full of the linnet s wings\n",
    "Evening vening ening ning ing ng g is is s full full \n",
    "ull ll l of of f the the he e linnet linnet innet nnet \n",
    "net et t s s wings wings ings ngs gs s \n",
    "*/"
   ]
  },
  {
   "cell_type": "markdown",
   "metadata": {},
   "source": [
    "模式 `\\\\w+` 将字符串划分为词。`find()` 方法像迭代器那样向前遍历输入字符串。而第二个重载的 `find()` 接收一个整型参数，该整数表示字符串中字符的位置，并以其作为搜索的起点。从结果可以看出，后一个版本的 `find()` 方法能够根据其参数的值，不断重新设定搜索的起始位置。\n",
    "### 组（Groups）\n",
    "组是用括号划分的正则表达式，可以根据组的编号来引用某个组。组号为 0 表示整个表达式，组号 1 表示被第一对括号括起来的组，以此类推。因此，下面这个表达式，"
   ]
  },
  {
   "cell_type": "code",
   "execution_count": null,
   "metadata": {
    "attributes": {
     "classes": [
      "java"
     ],
     "id": ""
    }
   },
   "outputs": [],
   "source": [
    "A(B(C))D"
   ]
  },
  {
   "cell_type": "markdown",
   "metadata": {},
   "source": [
    "中有三个组：组 0 是 `ABCD`，组 1 是 `BC`，组 2 是 `C`。\n",
    "\n",
    "`Matcher` 对象提供了一系列方法，用以获取与组相关的信息：\n",
    "\n",
    "+ `public int groupCount()` 返回该匹配器的模式中的分组数目，组 0 不包括在内。\n",
    "+ `public String group()` 返回前一次匹配操作（例如 `find()`）的第 0 组（整个匹配）。\n",
    "+ `public String group(int i)` 返回前一次匹配操作期间指定的组号，如果匹配成功，但是指定的组没有匹配输入字符串的任何部分，则将返回 `null`。\n",
    "+ `public int start(int group)` 返回在前一次匹配操作中寻找到的组的起始索引。\n",
    "+ `public int end(int group)` 返回在前一次匹配操作中寻找到的组的最后一个字符索引加一的值。\n",
    "\n",
    "下面是正则表达式组的例子："
   ]
  },
  {
   "cell_type": "code",
   "execution_count": null,
   "metadata": {
    "attributes": {
     "classes": [
      "java"
     ],
     "id": ""
    }
   },
   "outputs": [],
   "source": [
    "// strings/Groups.java\n",
    "import java.util.regex.*; \n",
    "\n",
    "public class Groups {   \n",
    "    public static final String POEM =     \n",
    "      \"Twas brillig, and the slithy toves\\n\" +     \n",
    "      \"Did gyre and gimble in the wabe.\\n\" +     \n",
    "      \"All mimsy were the borogoves,\\n\" +     \n",
    "      \"And the mome raths outgrabe.\\n\\n\" +     \n",
    "      \"Beware the Jabberwock, my son,\\n\" +     \n",
    "      \"The jaws that bite, the claws that catch.\\n\" +     \n",
    "      \"Beware the Jubjub bird, and shun\\n\" +     \n",
    "      \"The frumious Bandersnatch.\";   \n",
    "    public static void main(String[] args) {     \n",
    "        Matcher m = Pattern.compile(\n",
    "          \"(?m)(\\\\S+)\\\\s+((\\\\S+)\\\\s+(\\\\S+))$\")       \n",
    "          .matcher(POEM);     \n",
    "        while(m.find()) {       \n",
    "            for(int j = 0; j <= m.groupCount(); j++)         \n",
    "                System.out.print(\"[\" + m.group(j) + \"]\");       \n",
    "            System.out.println();     \n",
    "        }   \n",
    "    } \n",
    "}\n",
    "/* Output: \n",
    "[the slithy toves][the][slithy toves][slithy][toves] \n",
    "[in the wabe.][in][the wabe.][the][wabe.] \n",
    "[were the borogoves,][were][the \n",
    "borogoves,][the][borogoves,] \n",
    "[mome raths outgrabe.][mome][raths \n",
    "outgrabe.][raths][outgrabe.] \n",
    "[Jabberwock, my son,][Jabberwock,][my son,][my][son,] \n",
    "[claws that catch.][claws][that catch.][that][catch.] \n",
    "[bird, and shun][bird,][and shun][and][shun] \n",
    "[The frumious Bandersnatch.][The][frumious \n",
    "Bandersnatch.][frumious][Bandersnatch.] \n",
    "*/"
   ]
  },
  {
   "cell_type": "markdown",
   "metadata": {},
   "source": [
    "这首诗来自于 Lewis Carroll 所写的 *Through the Looking Glass* 中的 “Jabberwocky”。可以看到这个正则表达式模式有许多圆括号分组，由任意数目的非空白符（`\\\\S+`）及随后的任意数目的空白符（`\\\\s+`）所组成。目的是捕获每行的最后3个词，每行最后以 `\\$` 结束。不过，在正常情况下是将 `\\$` 与整个输入序列的末端相匹配。所以我们一定要显式地告知正则表达式注意输入序列中的换行符。这可以由序列开头的模式标记 `(?m)` 来完成（模式标记马上就会介绍）。\n",
    "### `start()` 和 `end()`\n",
    "在匹配操作成功之后，`start()` 返回先前匹配的起始位置的索引，而 `end()` 返回所匹配的最后字符的索引加一的值。匹配操作失败之后（或先于一个正在进行的匹配操作去尝试）调用 `start()` 或 `end()` 将会产生 `IllegalStateException`。下面的示例还同时展示了 `matches()` 和 `lookingAt()` 的用法 [^4]："
   ]
  },
  {
   "cell_type": "code",
   "execution_count": null,
   "metadata": {
    "attributes": {
     "classes": [
      "java"
     ],
     "id": ""
    }
   },
   "outputs": [],
   "source": [
    "// strings/StartEnd.java \n",
    "import java.util.regex.*; \n",
    "\n",
    "public class StartEnd {\n",
    "    public static String input =\n",
    "      \"As long as there is injustice, whenever a\\n\" +     \n",
    "      \"Targathian baby cries out, wherever a distress\\n\" +     \n",
    "      \"signal sounds among the stars \" +     \n",
    "      \"... We'll be there.\\n\"+     \n",
    "      \"This fine ship, and this fine crew ...\\n\" +     \n",
    "      \"Never give up! Never surrender!\";   \n",
    "    private static class Display {\n",
    "        private boolean regexPrinted = false;     \n",
    "        private String regex;\n",
    "        Display(String regex) { this.regex = regex; }     \n",
    "    \n",
    "        void display(String message) {       \n",
    "            if(!regexPrinted) {         \n",
    "                System.out.println(regex);         \n",
    "                regexPrinted = true;       \n",
    "            }       \n",
    "            System.out.println(message);     \n",
    "        }   \n",
    "    }   \n",
    "  \n",
    "    static void examine(String s, String regex) {     \n",
    "        Display d = new Display(regex);     \n",
    "        Pattern p = Pattern.compile(regex);     \n",
    "        Matcher m = p.matcher(s);     \n",
    "        while(m.find())       \n",
    "            d.display(\"find() '\" + m.group() +         \n",
    "              \"' start = \"+ m.start() + \" end = \" + m.end());     \n",
    "            if(m.lookingAt()) // No reset() necessary       \n",
    "                d.display(\"lookingAt() start = \"         \n",
    "                  + m.start() + \" end = \" + m.end());     \n",
    "        if(m.matches()) // No reset() necessary       \n",
    "            d.display(\"matches() start = \"         \n",
    "              + m.start() + \" end = \" + m.end());   \n",
    "    }\n",
    "    \n",
    "    public static void main(String[] args) {     \n",
    "        for(String in : input.split(\"\\n\")) {       \n",
    "            System.out.println(\"input : \" + in);       \n",
    "            for(String regex : new String[]{\"\\\\w*ere\\\\w*\",         \n",
    "              \"\\\\w*ever\", \"T\\\\w+\", \"Never.*?!\"})         \n",
    "                examine(in, regex);     \n",
    "        }   \n",
    "    } \n",
    "} \n",
    "/* Output: \n",
    "input : As long as there is injustice, whenever a \n",
    "\\w*ere\\w* \n",
    "find() 'there' start = 11 end = 16 \n",
    "\\w*ever \n",
    "find() 'whenever' start = 31 end = 39 \n",
    "input : Targathian baby cries out, wherever a distress \n",
    "\\w*ere\\w* \n",
    "find() 'wherever' start = 27 end = 35 \n",
    "\\w*ever \n",
    "find() 'wherever' start = 27 end = 35 \n",
    "T\\w+ find() 'Targathian' start = 0 end = 10 \n",
    "lookingAt() start = 0 end = 10 \n",
    "input : signal sounds among the stars ... We'll be \n",
    "there. \n",
    "\\w*ere\\w* \n",
    "find() 'there' start = 43 end = 48 \n",
    "input : This fine ship, and this fine crew ... \n",
    "T\\w+ find() 'This' start = 0 end = 4\n",
    "lookingAt() start = 0 end = 4 \n",
    "input : Never give up! Never surrender! \n",
    "\\w*ever \n",
    "find() 'Never' start = 0 end = 5 \n",
    "find() 'Never' start = 15 end = 20 \n",
    "lookingAt() start = 0 end = 5 \n",
    "Never.*?! \n",
    "find() 'Never give up!' start = 0 end = 14 \n",
    "find() 'Never surrender!' start = 15 end = 31 \n",
    "lookingAt() start = 0 end = 14 \n",
    "matches() start = 0 end = 31 \n",
    "*/ "
   ]
  },
  {
   "cell_type": "markdown",
   "metadata": {},
   "source": [
    "注意，`find()` 可以在输入的任意位置定位正则表达式，而 `lookingAt()` 和 `matches()` 只有在正则表达式与输入的最开始处就开始匹配时才会成功。`matches()` 只有在整个输入都匹配正则表达式时才会成功，而 `lookingAt()` [^5] 只要输入的第一部分匹配就会成功。\n",
    "### `Pattern` 标记\n",
    "`Pattern` 类的 `compile()` 方法还有另一个版本，它接受一个标记参数，以调整匹配行为："
   ]
  },
  {
   "cell_type": "code",
   "execution_count": null,
   "metadata": {
    "attributes": {
     "classes": [
      "java"
     ],
     "id": ""
    }
   },
   "outputs": [],
   "source": [
    "Pattern Pattern.compile(String regex, int flag)"
   ]
  },
  {
   "cell_type": "markdown",
   "metadata": {},
   "source": [
    "其中的 `flag` 来自以下 `Pattern` 类中的常量\n",
    "\n",
    "| 编译标记 | 效果 |\n",
    "| ---- |---- |\n",
    "| `Pattern.CANON_EQ` | 当且仅当两个字符的完全规范分解相匹配时，才认为它们是匹配的。例如，如果我们指定这个标记，表达式`\\u003F`就会匹配字符串`?`。默认情况下，匹配不考虑规范的等价性 |\n",
    "| `Pattern.CASE_INSENSITIVE(?i)` | 默认情况下，大小写不敏感的匹配假定只有US-ASCII字符集中的字符才能进行。这个标记允许模式匹配不考虑大小写（大写或小写）。通过指定`UNICODE_CASE`标记及结合此标记。基于Unicode的大小写不敏感的匹配就可以开启了 |\n",
    "| `Pattern.COMMENTS(?x)` | 在这种模式下，空格符将被忽略掉，并且以`#`开始直到行末的注释也会被忽略掉。通过嵌入的标记表达式也可以开启Unix的行模式 |\n",
    "| `Pattern.DOTALL(?s)` | 在dotall模式下，表达式`.`匹配所有字符，包括行终止符。默认情况下，`.`不会匹配行终止符 |\n",
    "| `Pattern.MULTILINE(?m)` | 在多行模式下，表达式`^`和`$`分别匹配一行的开始和结束。`^`还匹配输入字符串的开始，而`$`还匹配输入字符串的结尾。默认情况下，这些表达式仅匹配输入的完整字符串的开始和结束 |\n",
    "| `Pattern.UNICODE_CASE(?u)` | 当指定这个标记，并且开启`CASE_INSENSITIVE`时，大小写不敏感的匹配将按照与Unicode标准相一致的方式进行。默认情况下，大小写不敏感的匹配假定只能在US-ASCII字符集中的字符才能进行 |\n",
    "| `Pattern.UNIX_LINES(?d)` | 在这种模式下，在`.`、`^`和`$`的行为中，只识别行终止符`\\n` |\n",
    "\n",
    "在这些标记中，`Pattern.CASE_INSENSITIVE`、`Pattern.MULTILINE` 以及 `Pattern.COMMENTS`（对声明或文档有用）特别有用。请注意，你可以直接在正则表达式中使用其中的大多数标记，只需要将上表中括号括起来的字符插入到正则表达式中，你希望它起作用的位置即可。\n",
    "\n",
    "你还可以通过“或”(`|`)操作符组合多个标记的功能："
   ]
  },
  {
   "cell_type": "code",
   "execution_count": null,
   "metadata": {
    "attributes": {
     "classes": [
      "java"
     ],
     "id": ""
    }
   },
   "outputs": [],
   "source": [
    "// strings/ReFlags.java \n",
    "import java.util.regex.*; \n",
    "\n",
    "public class ReFlags {   \n",
    "    public static void main(String[] args) {     \n",
    "        Pattern p =  Pattern.compile(\"^java\",       \n",
    "          Pattern.CASE_INSENSITIVE | Pattern.MULTILINE);     \n",
    "        Matcher m = p.matcher(       \n",
    "          \"java has regex\\nJava has regex\\n\" +       \n",
    "          \"JAVA has pretty good regular expressions\\n\" +       \n",
    "          \"Regular expressions are in Java\");     \n",
    "        while(m.find())       \n",
    "            System.out.println(m.group());   \n",
    "    } \n",
    "}\n",
    "/* Output: \n",
    "java \n",
    "Java \n",
    "JAVA \n",
    "*/"
   ]
  },
  {
   "cell_type": "markdown",
   "metadata": {},
   "source": [
    "在这个例子中，我们创建了一个模式，它将匹配所有以“java”、“Java”和“JAVA”等开头的行，并且是在设置了多行标记的状态下，对每一行（从字符序列的第一个字符开始，至每一个行终止符）都进行匹配。注意，`group()` 方法只返回已匹配的部分。\n",
    "### `split()`\n",
    "`split()`方法将输入 `String` 断开成 `String` 对象数组，断开边界由正则表达式确定："
   ]
  },
  {
   "cell_type": "code",
   "execution_count": null,
   "metadata": {
    "attributes": {
     "classes": [
      "java"
     ],
     "id": ""
    }
   },
   "outputs": [],
   "source": [
    "String[] split(CharSequence input) \n",
    "String[] split(CharSequence input, int limit)"
   ]
  },
  {
   "cell_type": "markdown",
   "metadata": {},
   "source": [
    "这是一个快速而方便的方法，可以按照通用边界断开输入文本："
   ]
  },
  {
   "cell_type": "code",
   "execution_count": null,
   "metadata": {
    "attributes": {
     "classes": [
      "java"
     ],
     "id": ""
    }
   },
   "outputs": [],
   "source": [
    "// strings/SplitDemo.java \n",
    "import java.util.regex.*; \n",
    "import java.util.*; \n",
    "\n",
    "public class SplitDemo {  \n",
    "    public static void main(String[] args) {     \n",
    "        String input =       \n",
    "          \"This!!unusual use!!of exclamation!!points\";     \n",
    "        System.out.println(Arrays.toString(       \n",
    "        Pattern.compile(\"!!\").split(input)));     \n",
    "        // Only do the first three:     \n",
    "        System.out.println(Arrays.toString(       \n",
    "        Pattern.compile(\"!!\").split(input, 3)));   \n",
    "    }\n",
    "}\n",
    "/* Output: \n",
    "[This, unusual use, of exclamation, points] \n",
    "[This, unusual use, of exclamation!!points]\n",
    "*/"
   ]
  },
  {
   "cell_type": "markdown",
   "metadata": {},
   "source": [
    "第二种形式的 `split()` 方法可以限制将输入分割成字符串的数量。\n",
    "### 替换操作\n",
    "正则表达式在进行文本替换时特别方便，它提供了许多方法：\n",
    "+ `replaceFirst(String replacement)` 以参数字符串 `replacement` 替换掉第一个匹配成功的部分。\n",
    "+ `replaceAll(String replacement)` 以参数字符串 `replacement` 替换所有匹配成功的部分。\n",
    "+ `appendReplacement(StringBuffer sbuf, String replacement)` 执行渐进式的替换，而不是像 `replaceFirst()` 和 `replaceAll()` 那样只替换第一个匹配或全部匹配。这是一个非常重要的方法。它允许你调用其他方法来生成或处理 `replacement`（`replaceFirst()` 和 `replaceAll()` 则只能使用一个固定的字符串），使你能够以编程的方式将目标分割成组，从而具备更强大的替换功能。\n",
    "+ `appendTail(StringBuffer sbuf)` 在执行了一次或多次 `appendReplacement()` 之后，调用此方法可以将输入字符串余下的部分复制到 `sbuf` 中。\n",
    "\n",
    "下面的程序演示了如何使用这些替换方法。开头部分注释掉的文本，就是正则表达式要处理的输入字符串："
   ]
  },
  {
   "cell_type": "code",
   "execution_count": null,
   "metadata": {
    "attributes": {
     "classes": [
      "java"
     ],
     "id": ""
    }
   },
   "outputs": [],
   "source": [
    "// strings/TheReplacements.java \n",
    "import java.util.regex.*; \n",
    "import java.nio.file.*; \n",
    "import java.util.stream.*;\n",
    "\n",
    "/*! Here's a block of text to use as input to \n",
    "    the regular expression matcher. Note that we \n",
    "    first extract the block of text by looking for \n",
    "    the special delimiters, then process the     \n",
    "    extracted block. !*/\n",
    "\n",
    "public class TheReplacements {   \n",
    "    public static void main(String[] args) throws Exception {     \n",
    "        String s = Files.lines(       \n",
    "          Paths.get(\"TheReplacements.java\"))       \n",
    "          .collect(Collectors.joining(\"\\n\"));     \n",
    "        // Match specially commented block of text above:     \n",
    "        Matcher mInput = Pattern.compile(       \n",
    "          \"/\\\\*!(.*)!\\\\*/\", Pattern.DOTALL).matcher(s);     \n",
    "        if(mInput.find())       \n",
    "            s = mInput.group(1); // Captured by parentheses     \n",
    "        // Replace two or more spaces with a single space:     \n",
    "        s = s.replaceAll(\" {2,}\", \" \");     \n",
    "        // Replace 1+ spaces at the beginning of each     \n",
    "        // line with no spaces. Must enable MULTILINE mode:     \n",
    "        s = s.replaceAll(\"(?m)^ +\", \"\");     \n",
    "        System.out.println(s);     \n",
    "        s = s.replaceFirst(\"[aeiou]\", \"(VOWEL1)\");     \n",
    "        StringBuffer sbuf = new StringBuffer();     \n",
    "        Pattern p = Pattern.compile(\"[aeiou]\");     \n",
    "        Matcher m = p.matcher(s);     \n",
    "        // Process the find information as you     \n",
    "        // perform the replacements:     \n",
    "        while(m.find())      \n",
    "            m.appendReplacement(sbuf, m.group().toUpperCase());     \n",
    "        // Put in the remainder of the text:     \n",
    "        m.appendTail(sbuf);     \n",
    "        System.out.println(sbuf);\n",
    "    } \n",
    "}\n",
    "/* Output: \n",
    "Here's a block of text to use as input to \n",
    "the regular expression matcher. Note that we \n",
    "first extract the block of text by looking for \n",
    "the special delimiters, then process the \n",
    "extracted block. \n",
    "H(VOWEL1)rE's A blOck Of tExt tO UsE As InpUt tO \n",
    "thE rEgUlAr ExprEssIOn mAtchEr. NOtE thAt wE \n",
    "fIrst ExtrAct thE blOck Of tExt by lOOkIng fOr \n",
    "thE spEcIAl dElImItErs, thEn prOcEss thE \n",
    "ExtrActEd blOck. \n",
    "*/"
   ]
  },
  {
   "cell_type": "markdown",
   "metadata": {},
   "source": [
    "此处使用上一章介绍过的 [`Files`](./17-Files.md) 类打开并读入文件。`Files.lines()` 返回一个 `Stream` 对象，包含读入的所有行，`Collectors.joining()` 在每一行的结尾追加参数字符序列，最终拼接成一个 `String` 对象。\n",
    "\n",
    "`mInput` 匹配 `/*!` 和 `！*/` 之间的所有文字（注意分组的括号）。接下来，将存在两个或两个以上空格的地方，缩减为一个空格，并且删除每行开头部分的所有空格（为了使每一行都达到这个效果，而不仅仅是删除文本开头部分的空格，这里特意开启了多行模式）。这两个替换操作所使用的的 `replaceAll()` 是 `String` 对象自带的方法，在这里，使用此方法更方便。注意，因为这两个替换操作都只使用了一次 `replaceAll()`，所以，与其编译为 `Pattern`，不如直接使用 `String` 的 `replaceAll()` 方法，而且开销也更小些。\n",
    "\n",
    "`replaceFirst()` 只对找到的第一个匹配进行替换。此外，`replaceFirst()` 和 `replaceAll()` 方法用来替换的只是普通字符串，所以，如果想对这些替换字符串进行某些特殊处理，这两个方法时无法胜任的。如果你想要那么做，就应该使用 `appendReplacement()` 方法。该方法允许你在执行替换的过程中，操作用来替换的字符串。在这个例子中，先构造了 `sbuf` 用来保存最终结果，然后用 `group()` 选择一个组，并对其进行处理，将正则表达式找到的元音字母替换成大些字母。一般情况下，你应该遍历执行所有的替换操作，然后再调用 `appendTail()` 方法，但是，如果你想模拟 `replaceFirst()`（或替换n次）的行为，那就只需要执行一次替换，然后调用 `appendTail()` 方法，将剩余未处理的部分存入 `sbuf` 即可。\n",
    "\n",
    "同时，`appendReplacement()` 方法还允许你通过 `\\$g` 直接找到匹配的某个组，这里的 `g` 就是组号。然而，它只能应付一些简单的处理，无法实现类似前面这个例子中的功能。\n",
    "### `reset()`\n",
    "通过 `reset()` 方法，可以将现有的 `Matcher` 对象应用于一个新的字符序列："
   ]
  },
  {
   "cell_type": "code",
   "execution_count": null,
   "metadata": {
    "attributes": {
     "classes": [
      "java"
     ],
     "id": ""
    }
   },
   "outputs": [],
   "source": [
    "// strings/Resetting.java \n",
    "import java.util.regex.*; \n",
    "\n",
    "public class Resetting {   \n",
    "    public static void main(String[] args) throws Exception {     \n",
    "        Matcher m = Pattern.compile(\"[frb][aiu][gx]\")       \n",
    "          .matcher(\"fix the rug with bags\");     \n",
    "        while(m.find())       \n",
    "            System.out.print(m.group() + \" \");     \n",
    "        System.out.println();     \n",
    "        m.reset(\"fix the rig with rags\");     \n",
    "        while(m.find())       \n",
    "            System.out.print(m.group() + \" \");   \n",
    "    } \n",
    "} \n",
    "/* Output: \n",
    "fix rug bag \n",
    "fix rig rag \n",
    "*/"
   ]
  },
  {
   "cell_type": "markdown",
   "metadata": {},
   "source": [
    "使用不带参数的 `reset()` 方法，可以将 `Matcher` 对象重新设置到当前字符序列的起始位置。\n",
    "### 正则表达式与 Java I/O\n",
    "到目前为止，我们看到的例子都是将正则表达式用于静态的字符串。下面的例子将向你演示，如何应用正则表达式在一个文件中进行搜索匹配操作。`JGrep.java` 的灵感源自于 Unix 上的 *grep*。它有两个参数：文件名以及要匹配的正则表达式。输出的是每行有匹配的部分以及匹配部分在行中的位置。"
   ]
  },
  {
   "cell_type": "code",
   "execution_count": null,
   "metadata": {
    "attributes": {
     "classes": [
      "java"
     ],
     "id": ""
    }
   },
   "outputs": [],
   "source": [
    "// strings/JGrep.java \n",
    "// A very simple version of the \"grep\" program \n",
    "// {java JGrep \n",
    "// WhitherStringBuilder.java 'return|for|String'} \n",
    "import java.util.regex.*; \n",
    "import java.nio.file.*; \n",
    "import java.util.stream.*;\n",
    "\n",
    "public class JGrep {  \n",
    "    public static void main(String[] args) throws Exception {    \n",
    "        if(args.length < 2) {      \n",
    "            System.out.println(        \n",
    "              \"Usage: java JGrep file regex\");      \n",
    "            System.exit(0);   \n",
    "        }    \n",
    "        Pattern p = Pattern.compile(args[1]);    \n",
    "        // Iterate through the lines of the input file:    \n",
    "        int index = 0;    \n",
    "        Matcher m = p.matcher(\"\");    \n",
    "        for(String line: Files.readAllLines(Paths.get(args[0]))) {      \n",
    "            m.reset(line);      \n",
    "            while(m.find())        \n",
    "                System.out.println(index++ + \": \" +          \n",
    "                  m.group() + \": \" + m.start());    \n",
    "        }  \n",
    "    } \n",
    "} \n",
    "/* Output: \n",
    "0: for: 4 \n",
    "1: for: 4 \n",
    "*/"
   ]
  },
  {
   "cell_type": "markdown",
   "metadata": {},
   "source": [
    "`Files.readAllLines()` 返回一个 `List<String>` 对象，这意味着可以用 *for-in* 进行遍历。虽然可以在 `for` 循环内部创建一个新的 `Matcher` 对象，但是，在循环体外创建一个空的 `Matcher` 对象，然后用 `reset()` 方法每次为 `Matcher` 加载一行输入，这种处理会有一定的性能优化。最后用 `find()` 搜索结果。\n",
    "\n",
    "这里读入的测试参数是 `JGrep.java` 文件，然后搜索以 `[Ssct]` 开头的单词。\n",
    "\n",
    "如果想要更深入地学习正则表达式，你可以阅读 Jeffrey E. F. Friedl 的《精通正则表达式（第2版）》。网络上也有很多正则表达式的介绍，你还可以从 Perl 和 Python 等其他语言的文档中找到有用的信息。\n",
    "\n",
    "\n",
    "<!-- Scanning Input -->\n",
    "## 扫描输入\n",
    "到目前为止，从文件或标准输入读取数据还是一件相当痛苦的事情。一般的解决办法就是读入一行文本，对其进行分词，然后使用 `Integer`、`Double` 等类的各种解析方法来解析数据："
   ]
  },
  {
   "cell_type": "code",
   "execution_count": null,
   "metadata": {
    "attributes": {
     "classes": [
      "java"
     ],
     "id": ""
    }
   },
   "outputs": [],
   "source": [
    "// strings/SimpleRead.java \n",
    "import java.io.*;\n",
    "\n",
    "public class SimpleRead {  \n",
    "    public static BufferedReader input =    \n",
    "      new BufferedReader(new StringReader(    \n",
    "        \"Sir Robin of Camelot\\n22 1.61803\"));  \n",
    "    public static void main(String[] args) {    \n",
    "        try {      \n",
    "            System.out.println(\"What is your name?\");      \n",
    "            String name = input.readLine();      \n",
    "            System.out.println(name);      \n",
    "            System.out.println(\"How old are you? \" +        \n",
    "              \"What is your favorite double?\");      \n",
    "            System.out.println(\"(input: <age> <double>)\");      \n",
    "            String numbers = input.readLine();      \n",
    "            System.out.println(numbers);      \n",
    "            String[] numArray = numbers.split(\" \");      \n",
    "            int age = Integer.parseInt(numArray[0]);      \n",
    "            double favorite = Double.parseDouble(numArray[1]);      \n",
    "            System.out.format(\"Hi %s.%n\", name);      \n",
    "            System.out.format(\"In 5 years you will be %d.%n\", age + 5);      \n",
    "            System.out.format(\"My favorite double is %f.\", favorite / 2);    \n",
    "        } catch(IOException e) {      \n",
    "            System.err.println(\"I/O exception\");    \n",
    "        }  \n",
    "    } \n",
    "}\n",
    "/* Output: \n",
    "What is your name? \n",
    "Sir Robin of Camelot \n",
    "How old are you? What is your favorite double? \n",
    "(input: <age> <double>) \n",
    "22 1.61803\n",
    "Hi Sir Robin of Camelot. \n",
    "In 5 years you will be 27. \n",
    "My favorite double is 0.809015. \n",
    "*/"
   ]
  },
  {
   "cell_type": "markdown",
   "metadata": {},
   "source": [
    "`input` 字段使用的类来自 `java.io`，[附录:流式 I/O](./Appendix-IO-Streams.md) 详细介绍了相关内容。`StringReader` 将 `String` 转化为可读的流对象，然后用这个对象来构造 `BufferedReader` 对象，因为我们要使用 `BufferedReader` 的 `readLine()` 方法。最终，我们可以使用 `input` 对象一次读取一行文本，就像从控制台读入标准输入一样。\n",
    "\n",
    "`readLine()` 方法将一行输入转为 `String` 对象。如果每一行数据正好对应一个输入值，那这个方法也还可行。但是，如果两个输入值在同一行中，事情就不好办了，我们必须分解这个行，才能分别解析所需的输入值。在这个例子中，分解的操作发生在创建 `numArray`时。\n",
    "\n",
    "终于，Java SE5 新增了 `Scanner` 类，它可以大大减轻扫描输入的工作负担："
   ]
  },
  {
   "cell_type": "code",
   "execution_count": null,
   "metadata": {
    "attributes": {
     "classes": [
      "java"
     ],
     "id": ""
    }
   },
   "outputs": [],
   "source": [
    "// strings/BetterRead.java \n",
    "import java.util.*; \n",
    "\n",
    "public class BetterRead {\n",
    "  public static void main(String[] args) {\n",
    "    Scanner stdin = new Scanner(SimpleRead.input);\n",
    "    System.out.println(\"What is your name?\");\n",
    "    String name = stdin.nextLine();\n",
    "    System.out.println(name);\n",
    "    System.out.println(\n",
    "      \"How old are you? What is your favorite double?\");\n",
    "    System.out.println(\"(input: <age> <double>)\");\n",
    "    int age = stdin.nextInt();\n",
    "    double favorite = stdin.nextDouble();\n",
    "    System.out.println(age);\n",
    "    System.out.println(favorite);\n",
    "    System.out.format(\"Hi %s.%n\", name);\n",
    "    System.out.format(\"In 5 years you will be %d.%n\",\n",
    "      age + 5);\n",
    "    System.out.format(\"My favorite double is %f.\",\n",
    "      favorite / 2);\n",
    "  }\n",
    "}\n",
    "/* Output: \n",
    "What is your name? \n",
    "Sir Robin of Camelot \n",
    "How old are you? What is your favorite double? \n",
    "(input: <age> <double>) \n",
    "22 \n",
    "1.61803 \n",
    "Hi Sir Robin of Camelot. \n",
    "In 5 years you will be 27. \n",
    "My favorite double is 0.809015. \n",
    "*/"
   ]
  },
  {
   "cell_type": "markdown",
   "metadata": {},
   "source": [
    "`Scanner` 的构造器可以接收任意类型的输入对象，包括 `File`、`InputStream`、`String` 或者像此例中的`Readable` 实现类。`Readable` 是 Java SE5 中新加入的一个接口，表示“具有 `read()` 方法的某种东西”。上一个例子中的 `BufferedReader` 也归于这一类。\n",
    "\n",
    "有了 `Scanner`，所有的输入、分词、以及解析的操作都隐藏在不同类型的 `next` 方法中。普通的 `next()` 方法返回下一个 `String`。所有的基本类型（除 `char` 之外）都有对应的 `next` 方法，包括 `BigDecimal` 和 `BigInteger`。所有的 next 方法，只有在找到一个完整的分词之后才会返回。`Scanner` 还有相应的 `hasNext` 方法，用以判断下一个输入分词是否是所需的类型，如果是则返回 `true`。\n",
    "\n",
    "在 `BetterRead.java` 中没有用 `try` 区块捕获`IOException`。因为，`Scanner` 有一个假设，在输入结束时会抛出 `IOException`，所以 `Scanner` 会把 `IOException` 吞掉。不过，通过 `ioException()` 方法，你可以找到最近发生的异常，因此，你可以在必要时检查它。\n",
    "### `Scanner` 分隔符\n",
    "默认情况下，`Scanner` 根据空白字符对输入进行分词，但是你可以用正则表达式指定自己所需的分隔符："
   ]
  },
  {
   "cell_type": "code",
   "execution_count": null,
   "metadata": {
    "attributes": {
     "classes": [
      "java"
     ],
     "id": ""
    }
   },
   "outputs": [],
   "source": [
    "// strings/ScannerDelimiter.java \n",
    "import java.util.*;\n",
    "public class ScannerDelimiter {  \n",
    "    public static void main(String[] args) {    \n",
    "        Scanner scanner = new Scanner(\"12, 42, 78, 99, 42\");    \n",
    "        scanner.useDelimiter(\"\\\\s*,\\\\s*\");    \n",
    "        while(scanner.hasNextInt())    \n",
    "            System.out.println(scanner.nextInt());  \n",
    "    } \n",
    "}\n",
    "/* Output: \n",
    "12 \n",
    "42 \n",
    "78 \n",
    "99 \n",
    "42 \n",
    "*/"
   ]
  },
  {
   "cell_type": "markdown",
   "metadata": {},
   "source": [
    "这个例子使用逗号（包括逗号前后任意的空白字符）作为分隔符，同样的技术也可以用来读取逗号分隔的文件。我们可以用 `useDelimiter()` 来设置分隔符，同时，还有一个 `delimiter()` 方法，用来返回当前正在作为分隔符使用的 `Pattern` 对象。\n",
    "### 用正则表达式扫描\n",
    "除了能够扫描基本类型之外，你还可以使用自定义的正则表达式进行扫描，这在扫描复杂数据时非常有用。下面的例子将扫描一个防火墙日志文件中的威胁数据："
   ]
  },
  {
   "cell_type": "code",
   "execution_count": null,
   "metadata": {
    "attributes": {
     "classes": [
      "java"
     ],
     "id": ""
    }
   },
   "outputs": [],
   "source": [
    "// strings/ThreatAnalyzer.java \n",
    "import java.util.regex.*; \n",
    "import java.util.*;\n",
    "public class ThreatAnalyzer { \n",
    "    static String threatData =    \n",
    "      \"58.27.82.161@08/10/2015\\n\" +   \n",
    "      \"204.45.234.40@08/11/2015\\n\" +    \n",
    "      \"58.27.82.161@08/11/2015\\n\" +    \n",
    "      \"58.27.82.161@08/12/2015\\n\" +    \n",
    "      \"58.27.82.161@08/12/2015\\n\" +\n",
    "      \"[Next log section with different data format]\";  \n",
    "    public static void main(String[] args) { \n",
    "        Scanner scanner = new Scanner(threatData);    \n",
    "        String pattern = \"(\\\\d+[.]\\\\d+[.]\\\\d+[.]\\\\d+)@\" +      \n",
    "            \"(\\\\d{2}/\\\\d{2}/\\\\d{4})\";    \n",
    "        while(scanner.hasNext(pattern)) {      \n",
    "            scanner.next(pattern);      \n",
    "            MatchResult match = scanner.match();      \n",
    "            String ip = match.group(1);      \n",
    "            String date = match.group(2);      \n",
    "            System.out.format(        \n",
    "                \"Threat on %s from %s%n\", date,ip);    \n",
    "        }  \n",
    "    } \n",
    "} \n",
    "/* Output: \n",
    "Threat on 08/10/2015 from 58.27.82.161 \n",
    "Threat on 08/11/2015 from 204.45.234.40 \n",
    "Threat on 08/11/2015 from 58.27.82.161 \n",
    "Threat on 08/12/2015 from 58.27.82.161 \n",
    "Threat on 08/12/2015 from 58.27.82.161 \n",
    "*/  "
   ]
  },
  {
   "cell_type": "markdown",
   "metadata": {},
   "source": [
    "当 `next()` 方法配合指定的正则表达式使用时，将找到下一个匹配该模式的输入部分，调用 `match()` 方法就可以获得匹配的结果。如上所示，它的工作方式与之前看到的正则表达式匹配相似。\n",
    "\n",
    "在配合正则表达式使用扫描时，有一点需要注意：它仅仅针对下一个输入分词进行匹配，如果你的正则表达式中含有分隔符，那永远不可能匹配成功。\n",
    "\n",
    "<!-- StringTokenizer -->\n",
    "\n",
    "## StringTokenizer类\n",
    "在 Java 引入正则表达式（J2SE1.4）和 `Scanner` 类（Java SE5）之前，分割字符串的唯一方法是使用 `StringTokenizer` 来分词。不过，现在有了正则表达式和 `Scanner`，我们可以使用更加简单、更加简洁的方式来完成同样的工作了。下面的例子中，我们将 `StringTokenizer` 与另外两种技术简单地做了一个比较："
   ]
  },
  {
   "cell_type": "code",
   "execution_count": null,
   "metadata": {
    "attributes": {
     "classes": [
      "java"
     ],
     "id": ""
    }
   },
   "outputs": [],
   "source": [
    "// strings/ReplacingStringTokenizer.java \n",
    "import java.util.*; \n",
    "\n",
    "public class ReplacingStringTokenizer {   \n",
    "    public static void main(String[] args) {     \n",
    "        String input =       \n",
    "          \"But I'm not dead yet! I feel happy!\";     \n",
    "        StringTokenizer stoke = new StringTokenizer(input);     \n",
    "        while(stoke.hasMoreElements())       \n",
    "            System.out.print(stoke.nextToken() + \" \");     \n",
    "        System.out.println(); \n",
    "        System.out.println(Arrays.toString(input.split(\" \")));     \n",
    "        Scanner scanner = new Scanner(input);     \n",
    "        while(scanner.hasNext())       \n",
    "            System.out.print(scanner.next() + \" \");   \n",
    "    }\n",
    "} \n",
    "/* Output: \n",
    "But I'm not dead yet! I feel happy! \n",
    "[But, I'm, not, dead, yet!, I, feel, happy!] \n",
    "But I'm not dead yet! I feel happy! \n",
    "*/"
   ]
  },
  {
   "cell_type": "markdown",
   "metadata": {},
   "source": [
    "使用正则表达式或 `Scanner` 对象，我们能够以更加复杂的模式来分割一个字符串，而这对于 `StringTokenizer` 来说就很困难了。基本上，我们可以放心地说，`StringTokenizer` 已经可以废弃不用了。\n",
    "\n",
    "\n",
    "<!-- Summary -->\n",
    "## 本章小结\n",
    "过去，Java 对于字符串操作的技术相当不完善。不过随着近几个版本的升级，我们可以看到，Java 已经从其他语言中吸取了许多成熟的经验。到目前为止，它对字符串操作的支持已经很完善了。不过，有时你还要在细节上注意效率问题，例如恰当地使用 `StringBuilder` 等。\n",
    "\n",
    "\n",
    "[^1]: C++允许编程人员任意重载操作符。这通常是很复杂的过程（参见Prentice Hall于2000年编写的《Thinking in C++（第2版）》第10章），因此Java设计者认为这是很糟糕的功能，不应该纳入到Java中。起始重载操作符并没有糟糕到只能自己去重载的地步，但具有讽刺意味的是，与C++相比，在Java中使用操作符重载要容易得多。这一点可以在Python(参见[www.Python.org](http://www.python.org))和C#中看到，它们都有垃圾回收机制，操作符重载也简单易懂。\n",
    "\n",
    "\n",
    "[^2]: Java并非在一开始就支持正则表达式，因此这个令人费解的语法是硬塞进来的。\n",
    "\n",
    "\n",
    "[^3]: 网上还有很多实用并且成熟的正则表达式工具。\n",
    "\n",
    "\n",
    "[^4]: input来自于[Galaxy Quest](https://en.wikipedia.org/wiki/Galaxy_Quest)中Taggart司令的一篇演讲。\n",
    "\n",
    "\n",
    "[^5]: 我不知道他们是如何想出这个方法名的，或者它到底指的什么。这只是代码审查很重要的原因之一。\n",
    "\n",
    "<!-- 分页 -->\n",
    "\n",
    "<div style=\"page-break-after: always;\"></div>"
   ]
  }
 ],
 "metadata": {},
 "nbformat": 4,
 "nbformat_minor": 4
}
